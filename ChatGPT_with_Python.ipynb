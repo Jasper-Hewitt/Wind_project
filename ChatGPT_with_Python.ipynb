{
  "nbformat": 4,
  "nbformat_minor": 0,
  "metadata": {
    "colab": {
      "provenance": [],
      "include_colab_link": true
    },
    "kernelspec": {
      "name": "python3",
      "display_name": "Python 3"
    },
    "language_info": {
      "name": "python"
    }
  },
  "cells": [
    {
      "cell_type": "markdown",
      "metadata": {
        "id": "view-in-github",
        "colab_type": "text"
      },
      "source": [
        "<a href=\"https://colab.research.google.com/github/Jasper-Hewitt/Wind_project/blob/main/ChatGPT_with_Python.ipynb\" target=\"_parent\"><img src=\"https://colab.research.google.com/assets/colab-badge.svg\" alt=\"Open In Colab\"/></a>"
      ]
    },
    {
      "cell_type": "code",
      "execution_count": null,
      "metadata": {
        "id": "AeTwSfZum1OQ"
      },
      "outputs": [],
      "source": [
        "!pip install pyChatGPT"
      ]
    },
    {
      "cell_type": "code",
      "source": [
        "from pyChatGPT import ChatGPT"
      ],
      "metadata": {
        "id": "4s2lpskbnH_e"
      },
      "execution_count": 4,
      "outputs": []
    },
    {
      "cell_type": "code",
      "source": [
        "session_token = ''  # `__Secure-next-auth.session-token` cookie from https://chat.openai.com/chat\n",
        "api = ChatGPT(session_token)  # auth with session token"
      ],
      "metadata": {
        "id": "TQSR5zW8nMgJ"
      },
      "execution_count": null,
      "outputs": []
    },
    {
      "cell_type": "code",
      "source": [
        "# api2 = ChatGPT(email='example@domain.com', password='password')  # auth with email and password\n",
        "# api3 = ChatGPT(session_token, conversation_id='some-random-uuid')  # specify a conversation id\n",
        "# api4 = ChatGPT(session_token, proxy='http://proxy.example.com:8080')  # specify proxy\n"
      ],
      "metadata": {
        "id": "8p0eX8IPnOHF"
      },
      "execution_count": null,
      "outputs": []
    },
    {
      "cell_type": "code",
      "source": [
        "resp = api.send_message('Write an essay on Generative AI')\n",
        "print(resp['message'])"
      ],
      "metadata": {
        "id": "Rp48i5StnZMe"
      },
      "execution_count": null,
      "outputs": []
    },
    {
      "cell_type": "code",
      "source": [
        "\n",
        "api.refresh_auth()  # refresh the authorization token\n",
        "api.reset_conversation()  # reset the conversation"
      ],
      "metadata": {
        "id": "TgN9hwsmnBvX"
      },
      "execution_count": null,
      "outputs": []
    }
  ]
}