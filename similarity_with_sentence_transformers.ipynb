{
  "nbformat": 4,
  "nbformat_minor": 0,
  "metadata": {
    "colab": {
      "provenance": [],
      "authorship_tag": "ABX9TyPasMuWgYEPIE7a50tlqR4U",
      "include_colab_link": true
    },
    "kernelspec": {
      "name": "python3",
      "display_name": "Python 3"
    },
    "language_info": {
      "name": "python"
    }
  },
  "cells": [
    {
      "cell_type": "markdown",
      "metadata": {
        "id": "view-in-github",
        "colab_type": "text"
      },
      "source": [
        "<a href=\"https://colab.research.google.com/github/Jasper-Hewitt/Wind_project/blob/main/similarity_with_sentence_transformers.ipynb\" target=\"_parent\"><img src=\"https://colab.research.google.com/assets/colab-badge.svg\" alt=\"Open In Colab\"/></a>"
      ]
    },
    {
      "cell_type": "code",
      "execution_count": null,
      "metadata": {
        "id": "1Lc4vjpApT_8"
      },
      "outputs": [],
      "source": []
    },
    {
      "cell_type": "code",
      "source": [
        "#insert sentences\n",
        "\"\"\"\n",
        "This is a simple application for sentence embeddings: semantic search\n",
        "\n",
        "We have a corpus with various sentences. Then, for a given query sentence,\n",
        "we want to find the most similar sentence in this corpus.\n",
        "\n",
        "This script outputs for various queries the top 5 most similar sentences in the corpus.\n",
        "\"\"\"\n",
        "from sentence_transformers import SentenceTransformer, util\n",
        "import torch\n",
        "\n",
        "embedder = SentenceTransformer('all-MiniLM-L6-v2')\n",
        "\n",
        "# Corpus with example sentences\n",
        "corpus = [\"2021年末開始大量現身金門、馬祖的澳洲龍蝦，因地緣政治角力、中國抵制澳龍，讓金馬與中國間的走私增加了一個新品項。\",\n",
        "          \"早在1990年，中國來的走私船隻就能直接開到金門岸邊上下貨，1992年金馬的戰地政務解除後，走私開始頻繁。\",\n",
        "          \"2001年小三通開啟，卻存在許多限制，走私仍是日常；甚至，金門貢糖裡的花生不少是來自廈門。\",\n",
        "          \"但不論是從中國或金馬的角度，長期存在的非法進出口，對各自來說，少了稅收，也不利於食品安全的把關。\",\n",
        "          \"是怎麼樣的歷史與地理因素，讓走私日益壯大？金門、馬祖的走私日常會有改變的一天嗎？\"\n",
        "          \"「全球化已死。」這句話出自世界最大的晶圓代工工廠創辦人張忠謀。\",\n",
        "          \"他的經驗認知正好經歷了三個時代：亞洲經濟崛起、全球化及供應鏈達到高峰、80年來全球最大的金融風暴。\",\n",
        "          \"台積電的崛起，就剛好卡在人類全球化經濟史某一個「幸運」及「不幸」的區間。\",\n",
        "          \"如今，時代變了。原因當然主要還是美國的經濟停滯、貧富差距、資本主義危機、中產階級衰落⋯⋯，這些社會矛盾甚至威脅了美國的民主制度。\",\n",
        "          \"於是自1948年，由美國杜魯門總統主導的GATT，尤其1995年柯林頓政府一手打造人類史上最大的「全球貿易秩序機構」WTO，幾乎已經變成日內瓦的「無用風景」。\",\n",
        "          \"誰也不知道這樣非法進口的行為什麼時候才結束\"\n",
        "          ]\n",
        "corpus_embeddings = embedder.encode(corpus, convert_to_tensor=True)\n",
        "\n",
        "# Query sentences:\n",
        "queries = ['走私.', '金門','馬祖']\n",
        "\n",
        "\n",
        "# Find the closest 5 sentences of the corpus for each query sentence based on cosine similarity\n",
        "top_k = min(10, len(corpus))\n",
        "for query in queries:\n",
        "    query_embedding = embedder.encode(query, convert_to_tensor=True)\n",
        "\n",
        "    # We use cosine-similarity and torch.topk to find the highest 5 scores\n",
        "    cos_scores = util.cos_sim(query_embedding, corpus_embeddings)[0]\n",
        "    top_results = torch.topk(cos_scores, k=top_k)\n",
        "\n",
        "    print(\"\\n\\n======================\\n\\n\")\n",
        "    print(\"Query:\", query)\n",
        "    print(\"\\nTop 5 most similar sentences in corpus:\")\n",
        "\n",
        "    for score, idx in zip(top_results[0], top_results[1]):\n",
        "        print(corpus[idx], \"(Score: {:.4f})\".format(score))\n",
        "\n",
        "    \"\"\"\n",
        "    # Alternatively, we can also use util.semantic_search to perform cosine similarty + topk\n",
        "    hits = util.semantic_search(query_embedding, corpus_embeddings, top_k=5)\n",
        "    hits = hits[0]      #Get the hits for the first query\n",
        "    for hit in hits:\n",
        "        print(corpus[hit['corpus_id']], \"(Score: {:.4f})\".format(hit['score']))\n",
        "    \"\"\""
      ],
      "metadata": {
        "colab": {
          "base_uri": "https://localhost:8080/"
        },
        "id": "CoAGVbBppXjC",
        "outputId": "f6d8a2b4-7420-460f-d254-f15a2617e42d"
      },
      "execution_count": 5,
      "outputs": [
        {
          "output_type": "stream",
          "name": "stdout",
          "text": [
            "\n",
            "\n",
            "======================\n",
            "\n",
            "\n",
            "Query: 走私.\n",
            "\n",
            "Top 5 most similar sentences in corpus:\n",
            "誰也不知道這樣非法進口的行為什麼時候才結束 (Score: 0.4056)\n",
            "是怎麼樣的歷史與地理因素，讓走私日益壯大？金門、馬祖的走私日常會有改變的一天嗎？「全球化已死。」這句話出自世界最大的晶圓代工工廠創辦人張忠謀。 (Score: 0.3631)\n",
            "於是自1948年，由美國杜魯門總統主導的GATT，尤其1995年柯林頓政府一手打造人類史上最大的「全球貿易秩序機構」WTO，幾乎已經變成日內瓦的「無用風景」。 (Score: 0.3473)\n",
            "他的經驗認知正好經歷了三個時代：亞洲經濟崛起、全球化及供應鏈達到高峰、80年來全球最大的金融風暴。 (Score: 0.3472)\n",
            "但不論是從中國或金馬的角度，長期存在的非法進出口，對各自來說，少了稅收，也不利於食品安全的把關。 (Score: 0.3288)\n",
            "早在1990年，中國來的走私船隻就能直接開到金門岸邊上下貨，1992年金馬的戰地政務解除後，走私開始頻繁。 (Score: 0.2833)\n",
            "台積電的崛起，就剛好卡在人類全球化經濟史某一個「幸運」及「不幸」的區間。 (Score: 0.2750)\n",
            "2001年小三通開啟，卻存在許多限制，走私仍是日常；甚至，金門貢糖裡的花生不少是來自廈門。 (Score: 0.2605)\n",
            "2021年末開始大量現身金門、馬祖的澳洲龍蝦，因地緣政治角力、中國抵制澳龍，讓金馬與中國間的走私增加了一個新品項。 (Score: 0.2576)\n",
            "如今，時代變了。原因當然主要還是美國的經濟停滯、貧富差距、資本主義危機、中產階級衰落⋯⋯，這些社會矛盾甚至威脅了美國的民主制度。 (Score: 0.2282)\n",
            "\n",
            "\n",
            "======================\n",
            "\n",
            "\n",
            "Query: 金門\n",
            "\n",
            "Top 5 most similar sentences in corpus:\n",
            "2001年小三通開啟，卻存在許多限制，走私仍是日常；甚至，金門貢糖裡的花生不少是來自廈門。 (Score: 0.5249)\n",
            "2021年末開始大量現身金門、馬祖的澳洲龍蝦，因地緣政治角力、中國抵制澳龍，讓金馬與中國間的走私增加了一個新品項。 (Score: 0.5096)\n",
            "早在1990年，中國來的走私船隻就能直接開到金門岸邊上下貨，1992年金馬的戰地政務解除後，走私開始頻繁。 (Score: 0.4885)\n",
            "是怎麼樣的歷史與地理因素，讓走私日益壯大？金門、馬祖的走私日常會有改變的一天嗎？「全球化已死。」這句話出自世界最大的晶圓代工工廠創辦人張忠謀。 (Score: 0.4576)\n",
            "但不論是從中國或金馬的角度，長期存在的非法進出口，對各自來說，少了稅收，也不利於食品安全的把關。 (Score: 0.3587)\n",
            "他的經驗認知正好經歷了三個時代：亞洲經濟崛起、全球化及供應鏈達到高峰、80年來全球最大的金融風暴。 (Score: 0.3503)\n",
            "於是自1948年，由美國杜魯門總統主導的GATT，尤其1995年柯林頓政府一手打造人類史上最大的「全球貿易秩序機構」WTO，幾乎已經變成日內瓦的「無用風景」。 (Score: 0.2353)\n",
            "如今，時代變了。原因當然主要還是美國的經濟停滯、貧富差距、資本主義危機、中產階級衰落⋯⋯，這些社會矛盾甚至威脅了美國的民主制度。 (Score: 0.1638)\n",
            "誰也不知道這樣非法進口的行為什麼時候才結束 (Score: 0.1621)\n",
            "台積電的崛起，就剛好卡在人類全球化經濟史某一個「幸運」及「不幸」的區間。 (Score: 0.1092)\n",
            "\n",
            "\n",
            "======================\n",
            "\n",
            "\n",
            "Query: 馬祖\n",
            "\n",
            "Top 5 most similar sentences in corpus:\n",
            "但不論是從中國或金馬的角度，長期存在的非法進出口，對各自來說，少了稅收，也不利於食品安全的把關。 (Score: 0.5621)\n",
            "是怎麼樣的歷史與地理因素，讓走私日益壯大？金門、馬祖的走私日常會有改變的一天嗎？「全球化已死。」這句話出自世界最大的晶圓代工工廠創辦人張忠謀。 (Score: 0.5608)\n",
            "2021年末開始大量現身金門、馬祖的澳洲龍蝦，因地緣政治角力、中國抵制澳龍，讓金馬與中國間的走私增加了一個新品項。 (Score: 0.5502)\n",
            "早在1990年，中國來的走私船隻就能直接開到金門岸邊上下貨，1992年金馬的戰地政務解除後，走私開始頻繁。 (Score: 0.4582)\n",
            "於是自1948年，由美國杜魯門總統主導的GATT，尤其1995年柯林頓政府一手打造人類史上最大的「全球貿易秩序機構」WTO，幾乎已經變成日內瓦的「無用風景」。 (Score: 0.4240)\n",
            "2001年小三通開啟，卻存在許多限制，走私仍是日常；甚至，金門貢糖裡的花生不少是來自廈門。 (Score: 0.3931)\n",
            "誰也不知道這樣非法進口的行為什麼時候才結束 (Score: 0.3803)\n",
            "他的經驗認知正好經歷了三個時代：亞洲經濟崛起、全球化及供應鏈達到高峰、80年來全球最大的金融風暴。 (Score: 0.3799)\n",
            "台積電的崛起，就剛好卡在人類全球化經濟史某一個「幸運」及「不幸」的區間。 (Score: 0.3546)\n",
            "如今，時代變了。原因當然主要還是美國的經濟停滯、貧富差距、資本主義危機、中產階級衰落⋯⋯，這些社會矛盾甚至威脅了美國的民主制度。 (Score: 0.3168)\n"
          ]
        }
      ]
    },
    {
      "cell_type": "code",
      "source": [
        "#calculate similarity per keyword\n",
        "# Create a dictionary to store the scores for each sentence\n",
        "sentence_scores = {sentence:[] for sentence in corpus}\n",
        "\n",
        "# Iterate through the queries and find the top 5 most similar sentences in the corpus\n",
        "top_k = min(5, len(corpus))\n",
        "for query in queries:\n",
        "    query_embedding = embedder.encode(query, convert_to_tensor=True)\n",
        "\n",
        "    # We use cosine-similarity and torch.topk to find the highest 5 scores\n",
        "    cos_scores = util.cos_sim(query_embedding, corpus_embeddings)[0]\n",
        "    top_results = torch.topk(cos_scores, k=top_k)\n",
        "\n",
        "    # Iterate through the top results and add the scores to the corresponding sentence in the dictionary\n",
        "    for score, idx in zip(top_results[0], top_results[1]):\n",
        "        sentence_scores[corpus[idx]].append(score)\n",
        "\n",
        "# Create a list of tuples to store the mean scores and sentences\n",
        "mean_scores = []\n",
        "\n",
        "# Iterate through the dictionary and calculate the mean score for each sentence\n",
        "for sentence, scores in sentence_scores.items():\n",
        "    mean_score = sum(scores) / len(scores)\n",
        "    mean_scores.append((mean_score, sentence))\n",
        "\n",
        "# Sort the list of tuples based on the mean score\n",
        "mean_scores.sort(reverse=True)\n",
        "\n",
        "# Print the overall similarity overview\n",
        "print(\"Overall similarity overview:\")\n",
        "for mean_score, sentence in mean_scores:\n",
        "    print(\"Sentence:\", sentence)\n",
        "    print(\"Mean score: {:.4f}\\n\".format(mean_score))\n"
      ],
      "metadata": {
        "colab": {
          "base_uri": "https://localhost:8080/",
          "height": 247
        },
        "id": "q-p4vak2rsSi",
        "outputId": "e767fcee-dfdc-4cce-aa12-7754bf734dc8"
      },
      "execution_count": 6,
      "outputs": [
        {
          "output_type": "error",
          "ename": "ZeroDivisionError",
          "evalue": "ignored",
          "traceback": [
            "\u001b[0;31m---------------------------------------------------------------------------\u001b[0m",
            "\u001b[0;31mZeroDivisionError\u001b[0m                         Traceback (most recent call last)",
            "\u001b[0;32m<ipython-input-6-42d5b45f1c12>\u001b[0m in \u001b[0;36m<module>\u001b[0;34m\u001b[0m\n\u001b[1;32m     20\u001b[0m \u001b[0;31m# Iterate through the dictionary and calculate the mean score for each sentence\u001b[0m\u001b[0;34m\u001b[0m\u001b[0;34m\u001b[0m\u001b[0;34m\u001b[0m\u001b[0m\n\u001b[1;32m     21\u001b[0m \u001b[0;32mfor\u001b[0m \u001b[0msentence\u001b[0m\u001b[0;34m,\u001b[0m \u001b[0mscores\u001b[0m \u001b[0;32min\u001b[0m \u001b[0msentence_scores\u001b[0m\u001b[0;34m.\u001b[0m\u001b[0mitems\u001b[0m\u001b[0;34m(\u001b[0m\u001b[0;34m)\u001b[0m\u001b[0;34m:\u001b[0m\u001b[0;34m\u001b[0m\u001b[0;34m\u001b[0m\u001b[0m\n\u001b[0;32m---> 22\u001b[0;31m     \u001b[0mmean_score\u001b[0m \u001b[0;34m=\u001b[0m \u001b[0msum\u001b[0m\u001b[0;34m(\u001b[0m\u001b[0mscores\u001b[0m\u001b[0;34m)\u001b[0m \u001b[0;34m/\u001b[0m \u001b[0mlen\u001b[0m\u001b[0;34m(\u001b[0m\u001b[0mscores\u001b[0m\u001b[0;34m)\u001b[0m\u001b[0;34m\u001b[0m\u001b[0;34m\u001b[0m\u001b[0m\n\u001b[0m\u001b[1;32m     23\u001b[0m     \u001b[0mmean_scores\u001b[0m\u001b[0;34m.\u001b[0m\u001b[0mappend\u001b[0m\u001b[0;34m(\u001b[0m\u001b[0;34m(\u001b[0m\u001b[0mmean_score\u001b[0m\u001b[0;34m,\u001b[0m \u001b[0msentence\u001b[0m\u001b[0;34m)\u001b[0m\u001b[0;34m)\u001b[0m\u001b[0;34m\u001b[0m\u001b[0;34m\u001b[0m\u001b[0m\n\u001b[1;32m     24\u001b[0m \u001b[0;34m\u001b[0m\u001b[0m\n",
            "\u001b[0;31mZeroDivisionError\u001b[0m: division by zero"
          ]
        }
      ]
    },
    {
      "cell_type": "code",
      "source": [
        "#calculate average score of all the sentences (per query). It is even able to detect the sentence that I made up and contains no words that are also in the queries. it just contains 非法進口. \n",
        "\n",
        "# Create a list of tuples to store the mean scores and sentences\n",
        "mean_scores = []\n",
        "\n",
        "# Iterate through the dictionary and calculate the mean score for each sentence\n",
        "for sentence, scores in sentence_scores.items():\n",
        "    if len(scores) == 0:\n",
        "        mean_score = 0\n",
        "    else:\n",
        "        mean_score = sum(scores) / len(scores)\n",
        "    mean_scores.append((mean_score, sentence))\n",
        "\n",
        "# Sort the list of tuples based on the mean score\n",
        "mean_scores.sort(reverse=True)\n",
        "\n",
        "# Print the overall similarity overview\n",
        "print(\"Overall similarity overview:\")\n",
        "for mean_score, sentence in mean_scores:\n",
        "    print(\"Sentence:\", sentence)\n",
        "    print(\"Mean score: {:.4f}\\n\".format(mean_score))\n"
      ],
      "metadata": {
        "colab": {
          "base_uri": "https://localhost:8080/"
        },
        "id": "ZCLeTUMrrOp0",
        "outputId": "a0158857-6375-495c-8e98-1f5fba231f11"
      },
      "execution_count": 7,
      "outputs": [
        {
          "output_type": "stream",
          "name": "stdout",
          "text": [
            "Overall similarity overview:\n",
            "Sentence: 2021年末開始大量現身金門、馬祖的澳洲龍蝦，因地緣政治角力、中國抵制澳龍，讓金馬與中國間的走私增加了一個新品項。\n",
            "Mean score: 0.5299\n",
            "\n",
            "Sentence: 2001年小三通開啟，卻存在許多限制，走私仍是日常；甚至，金門貢糖裡的花生不少是來自廈門。\n",
            "Mean score: 0.5249\n",
            "\n",
            "Sentence: 早在1990年，中國來的走私船隻就能直接開到金門岸邊上下貨，1992年金馬的戰地政務解除後，走私開始頻繁。\n",
            "Mean score: 0.4733\n",
            "\n",
            "Sentence: 是怎麼樣的歷史與地理因素，讓走私日益壯大？金門、馬祖的走私日常會有改變的一天嗎？「全球化已死。」這句話出自世界最大的晶圓代工工廠創辦人張忠謀。\n",
            "Mean score: 0.4605\n",
            "\n",
            "Sentence: 但不論是從中國或金馬的角度，長期存在的非法進出口，對各自來說，少了稅收，也不利於食品安全的把關。\n",
            "Mean score: 0.4165\n",
            "\n",
            "Sentence: 誰也不知道這樣非法進口的行為什麼時候才結束\n",
            "Mean score: 0.4056\n",
            "\n",
            "Sentence: 於是自1948年，由美國杜魯門總統主導的GATT，尤其1995年柯林頓政府一手打造人類史上最大的「全球貿易秩序機構」WTO，幾乎已經變成日內瓦的「無用風景」。\n",
            "Mean score: 0.3857\n",
            "\n",
            "Sentence: 他的經驗認知正好經歷了三個時代：亞洲經濟崛起、全球化及供應鏈達到高峰、80年來全球最大的金融風暴。\n",
            "Mean score: 0.3472\n",
            "\n",
            "Sentence: 如今，時代變了。原因當然主要還是美國的經濟停滯、貧富差距、資本主義危機、中產階級衰落⋯⋯，這些社會矛盾甚至威脅了美國的民主制度。\n",
            "Mean score: 0.0000\n",
            "\n",
            "Sentence: 台積電的崛起，就剛好卡在人類全球化經濟史某一個「幸運」及「不幸」的區間。\n",
            "Mean score: 0.0000\n",
            "\n"
          ]
        }
      ]
    }
  ]
}