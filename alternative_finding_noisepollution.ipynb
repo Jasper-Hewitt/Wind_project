{
  "nbformat": 4,
  "nbformat_minor": 0,
  "metadata": {
    "colab": {
      "provenance": [],
      "authorship_tag": "ABX9TyPKtF9SVf2tOTAk5uiJ8cWc",
      "include_colab_link": true
    },
    "kernelspec": {
      "name": "python3",
      "display_name": "Python 3"
    },
    "language_info": {
      "name": "python"
    }
  },
  "cells": [
    {
      "cell_type": "markdown",
      "metadata": {
        "id": "view-in-github",
        "colab_type": "text"
      },
      "source": [
        "<a href=\"https://colab.research.google.com/github/Jasper-Hewitt/Wind_project/blob/main/alternative_finding_noisepollution.ipynb\" target=\"_parent\"><img src=\"https://colab.research.google.com/assets/colab-badge.svg\" alt=\"Open In Colab\"/></a>"
      ]
    },
    {
      "cell_type": "code",
      "source": [
        "#this one uses a different regex, split on 。 and ：\n",
        "#many of the units of information within the PDF are actually only one sentence so I guess this is fine. \n",
        "!pip install fitz\n",
        "!pip install static\n",
        "!pip install frontend\n",
        "!pip install pymupdf --upgrade"
      ],
      "metadata": {
        "id": "Dul8i6-4aEx9"
      },
      "execution_count": null,
      "outputs": []
    },
    {
      "cell_type": "code",
      "source": [
        "# mkdir static\n",
        "import fitz\n",
        "\n",
        "doc = fitz.open(\"dragged_130_146.pdf\")\n",
        "\n",
        "for page in doc:\n",
        "    text = page.get_text(\"text\")\n",
        "    with open(\"output3.txt\", \"a\") as f:\n",
        "        f.write(text)\n"
      ],
      "metadata": {
        "id": "5xCYdNT2aDkI"
      },
      "execution_count": 2,
      "outputs": []
    },
    {
      "cell_type": "code",
      "source": [
        "with open('output3.txt', 'r') as file:\n",
        "    # Read the contents of the file\n",
        "    contents = file.read()\n",
        "    # Print the contents\n",
        "    print(contents)"
      ],
      "metadata": {
        "id": "kjHTNb_qccQB"
      },
      "execution_count": null,
      "outputs": []
    },
    {
      "cell_type": "code",
      "source": [
        "import re\n",
        "pattern = \"。|:\"\n",
        "\n",
        "split_contents = re.split(pattern, contents)\n",
        "\n",
        "# print(sentences)\n"
      ],
      "metadata": {
        "id": "4BNGCdG62dme"
      },
      "execution_count": 5,
      "outputs": []
    },
    {
      "cell_type": "code",
      "source": [
        "split_contents"
      ],
      "metadata": {
        "id": "LyUTKKrK5g-Q"
      },
      "execution_count": null,
      "outputs": []
    },
    {
      "cell_type": "code",
      "source": [
        "len(split_contents)"
      ],
      "metadata": {
        "id": "nRFrSOXh2fNO",
        "outputId": "585ab69a-4e8f-49e1-bcca-c3a876b8bee1",
        "colab": {
          "base_uri": "https://localhost:8080/"
        }
      },
      "execution_count": 7,
      "outputs": [
        {
          "output_type": "execute_result",
          "data": {
            "text/plain": [
              "128"
            ]
          },
          "metadata": {},
          "execution_count": 7
        }
      ]
    },
    {
      "cell_type": "code",
      "source": [
        "# import re\n",
        "# split_contents = re.split(r'\\d+\\.', contents)\n",
        "# split_contents"
      ],
      "metadata": {
        "id": "EiNCc-KKeVO6"
      },
      "execution_count": null,
      "outputs": []
    },
    {
      "cell_type": "code",
      "source": [
        "!pip install sentence_transformers\n",
        "#also works with entire alineas \n",
        "#below are some other models that don't work. I get a warning signal that says it can't find the model so it switches to MEAN pooling instead. \n",
        "#('all-MiniLM-L6-v2'), one of the most popular ones, works but it is an English model \n",
        "#(\"uer/sbert-base-chinese-nli\")#('shibing624/text2vec-base-chinese')#('all-MiniLM-L6-v2') \n",
        "\n",
        "from sentence_transformers import SentenceTransformer, util\n",
        "import torch\n",
        "\n",
        "#alternative model by same creators: (\"sentence-transformers/paraphrase-multilingual-MiniLM-L12-v2\"). This one appears to be more popular. Compare results.\n",
        "# embedder = SentenceTransformer(\"distiluse-base-multilingual-cased-v1\")\n",
        "embedder = SentenceTransformer(\"sentence-transformers/paraphrase-multilingual-MiniLM-L12-v2\")\n",
        "# Corpus with example sentences\n",
        "corpus = split_contents\n",
        "corpus_embeddings = embedder.encode(corpus, convert_to_tensor=True)\n",
        "\n",
        "# Query sentences:\n",
        "queries = ['噪音', '水下噪音','聲音']\n",
        "\n",
        "# Find the closest X sentences of the corpus for each query sentence based on cosine similarity\n",
        "top_k = min(68, len(corpus))\n",
        "for query in queries:\n",
        "    query_embedding = embedder.encode(query, convert_to_tensor=True)\n",
        "\n",
        "    # We use cosine-similarity and torch.topk to find the highest 5 scores\n",
        "    cos_scores = util.cos_sim(query_embedding, corpus_embeddings)[0]\n",
        "    top_results = torch.topk(cos_scores, k=top_k)\n",
        "\n",
        "    print(\"\\n\\n======================\\n\\n\")\n",
        "    print(\"Query:\", query)\n",
        "    print(\"\\nTop X most similar sentences in corpus:\")\n",
        "\n",
        "    for score, idx in zip(top_results[0], top_results[1]):\n",
        "        print(corpus[idx], \"(Score: {:.4f})\".format(score))"
      ],
      "metadata": {
        "id": "CoAGVbBppXjC"
      },
      "execution_count": null,
      "outputs": []
    },
    {
      "cell_type": "markdown",
      "source": [
        "#calculate accumulated similarity score per keyword"
      ],
      "metadata": {
        "id": "6-RJ0t2mJxTk"
      }
    },
    {
      "cell_type": "code",
      "source": [
        "sentence_scores = {sentence: {query: 0 for query in queries} for sentence in corpus}\n",
        "\n",
        "for query in queries:\n",
        "    query_embedding = embedder.encode(query, convert_to_tensor=True)\n",
        "    cos_scores = util.cos_sim(query_embedding, corpus_embeddings)[0]\n",
        "    top_results = torch.topk(cos_scores, k=len(corpus))\n",
        "    for score, idx in zip(top_results[0], top_results[1]):\n",
        "        sentence = corpus[idx]\n",
        "        sentence_scores[sentence][query] = score"
      ],
      "metadata": {
        "id": "3VkUraU4xILS"
      },
      "execution_count": 9,
      "outputs": []
    },
    {
      "cell_type": "code",
      "source": [
        "len(sentence_scores)"
      ],
      "metadata": {
        "colab": {
          "base_uri": "https://localhost:8080/"
        },
        "id": "0fmk_VLzxP9k",
        "outputId": "676fcadb-c58a-467d-cb67-1763dbfb22de"
      },
      "execution_count": 10,
      "outputs": [
        {
          "output_type": "execute_result",
          "data": {
            "text/plain": [
              "94"
            ]
          },
          "metadata": {},
          "execution_count": 10
        }
      ]
    },
    {
      "cell_type": "code",
      "source": [
        "import pandas as pd\n",
        "#in case we use more or less keywords, we will have to adjust this code slightly\n",
        "df = pd.DataFrame([[sentence, scores[queries[0]], scores[queries[1]], \n",
        "                    scores[queries[2]], scores[queries[0]]+scores[queries[1]]+scores[queries[2]]] \n",
        "                   for sentence, scores in sentence_scores.items()], \n",
        "                  columns=['text', 'similarity_score1', 'similarity_score2', 'similarity_score3', \n",
        "                           'accumulated_score'])\n",
        "df = df.sort_values(by='accumulated_score', ascending=False)"
      ],
      "metadata": {
        "id": "l-SLy5Yh9RLs"
      },
      "execution_count": 11,
      "outputs": []
    },
    {
      "cell_type": "code",
      "source": [
        "noise_pattern= '遵照辦理'\n",
        "noise_pattern2='��'\n",
        "noise_pattern3='�'\n",
        "df['text'] = df['text'].replace(noise_pattern3,'',regex=True)\n",
        "df['text'] = df['text'].replace(noise_pattern,'',regex=True)\n",
        "df['text'] = df['text'].replace(noise_pattern2,'',regex=True)"
      ],
      "metadata": {
        "id": "i92KcHm_3PHF"
      },
      "execution_count": 21,
      "outputs": []
    },
    {
      "cell_type": "code",
      "source": [
        "#delete empty rows\n",
        "df = df[df['text'].str.len()>6]   \n",
        "df = df[['text', 'similarity_score1', 'similarity_score2', 'similarity_score3', 'accumulated_score']]\n",
        "df = df.reset_index(drop=True)\n",
        "df"
      ],
      "metadata": {
        "id": "wfV8ZcEi2SZ8",
        "outputId": "5e35f4f2-09e4-44c7-f61c-d22c534bec3f",
        "colab": {
          "base_uri": "https://localhost:8080/",
          "height": 962
        }
      },
      "execution_count": 23,
      "outputs": [
        {
          "output_type": "execute_result",
          "data": {
            "text/plain": [
              "                                                 text similarity_score1  \\\n",
              "0    \\n－ \\n－ \\n(2)依據噪音振動模擬\\n結果顯示，陸上施\\n工及風機營運後之\\n全頻...    tensor(0.5539)   \n",
              "1    \\n二、 水下噪音監測 \\n水下噪音監測之目的係為確認打樁期\\n間之水下噪音值是否超出值，...    tensor(0.4893)   \n",
              "2    \\n3.開發行為屬點狀開\\n發 ， 無 大 面 積 施\\n工，環境影響說明\\n書中已針對施...    tensor(0.3921)   \n",
              "3            \\n8.1.2.1 \\n8-5 \\n(五)施工前不使用聲音驅\\n離裝置(ADD)    tensor(0.3806)   \n",
              "4    \\n，本計畫於施工期間共規劃2種水\\n下監測，其目的及規劃內容分別說明如下： \\n一、 水...    tensor(0.2692)   \n",
              "..                                                ...               ...   \n",
              "86   \\n另本開發集團沃旭能源公司已於107年\\n2月7日宣布在彰化建立亞洲首個百萬\\n瓦等級儲...   tensor(-0.0418)   \n",
              "87   \\n四、 創造在地的商機 \\n未來將在彰化投資必須的項目、如產\\n業人力需求、運輸，以在地...   tensor(-0.0703)   \n",
              "88   \\n三、 在地人才培訓 \\n(一) 提供綠能全額獎學金(8名)保留彰\\n化子名額，預計10...   tensor(-0.0871)   \n",
              "89                          以上這些皆為本集團公司\\n自願性的企業社會責任舉措   tensor(-0.0999)   \n",
              "90   \\n目前國際間碳交易市場包括管制市場(如\\nCDM, JI等)和自願市場(如VCS, GS...   tensor(-0.1136)   \n",
              "\n",
              "   similarity_score2 similarity_score3 accumulated_score  \n",
              "0     tensor(0.4647)    tensor(0.4433)    tensor(1.4619)  \n",
              "1     tensor(0.5716)    tensor(0.3833)    tensor(1.4442)  \n",
              "2     tensor(0.3704)    tensor(0.3250)    tensor(1.0874)  \n",
              "3     tensor(0.2708)    tensor(0.3720)    tensor(1.0234)  \n",
              "4     tensor(0.4633)    tensor(0.2864)    tensor(1.0189)  \n",
              "..               ...               ...               ...  \n",
              "86   tensor(-0.0208)   tensor(-0.0679)   tensor(-0.1305)  \n",
              "87   tensor(-0.0794)   tensor(-0.0152)   tensor(-0.1650)  \n",
              "88   tensor(-0.1202)   tensor(-0.0429)   tensor(-0.2502)  \n",
              "89   tensor(-0.1250)   tensor(-0.0614)   tensor(-0.2863)  \n",
              "90   tensor(-0.1015)   tensor(-0.0818)   tensor(-0.2969)  \n",
              "\n",
              "[91 rows x 5 columns]"
            ],
            "text/html": [
              "\n",
              "  <div id=\"df-70d80f62-6505-4d48-b5d4-bba15922d733\">\n",
              "    <div class=\"colab-df-container\">\n",
              "      <div>\n",
              "<style scoped>\n",
              "    .dataframe tbody tr th:only-of-type {\n",
              "        vertical-align: middle;\n",
              "    }\n",
              "\n",
              "    .dataframe tbody tr th {\n",
              "        vertical-align: top;\n",
              "    }\n",
              "\n",
              "    .dataframe thead th {\n",
              "        text-align: right;\n",
              "    }\n",
              "</style>\n",
              "<table border=\"1\" class=\"dataframe\">\n",
              "  <thead>\n",
              "    <tr style=\"text-align: right;\">\n",
              "      <th></th>\n",
              "      <th>text</th>\n",
              "      <th>similarity_score1</th>\n",
              "      <th>similarity_score2</th>\n",
              "      <th>similarity_score3</th>\n",
              "      <th>accumulated_score</th>\n",
              "    </tr>\n",
              "  </thead>\n",
              "  <tbody>\n",
              "    <tr>\n",
              "      <th>0</th>\n",
              "      <td>\\n－ \\n－ \\n(2)依據噪音振動模擬\\n結果顯示，陸上施\\n工及風機營運後之\\n全頻...</td>\n",
              "      <td>tensor(0.5539)</td>\n",
              "      <td>tensor(0.4647)</td>\n",
              "      <td>tensor(0.4433)</td>\n",
              "      <td>tensor(1.4619)</td>\n",
              "    </tr>\n",
              "    <tr>\n",
              "      <th>1</th>\n",
              "      <td>\\n二、 水下噪音監測 \\n水下噪音監測之目的係為確認打樁期\\n間之水下噪音值是否超出值，...</td>\n",
              "      <td>tensor(0.4893)</td>\n",
              "      <td>tensor(0.5716)</td>\n",
              "      <td>tensor(0.3833)</td>\n",
              "      <td>tensor(1.4442)</td>\n",
              "    </tr>\n",
              "    <tr>\n",
              "      <th>2</th>\n",
              "      <td>\\n3.開發行為屬點狀開\\n發 ， 無 大 面 積 施\\n工，環境影響說明\\n書中已針對施...</td>\n",
              "      <td>tensor(0.3921)</td>\n",
              "      <td>tensor(0.3704)</td>\n",
              "      <td>tensor(0.3250)</td>\n",
              "      <td>tensor(1.0874)</td>\n",
              "    </tr>\n",
              "    <tr>\n",
              "      <th>3</th>\n",
              "      <td>\\n8.1.2.1 \\n8-5 \\n(五)施工前不使用聲音驅\\n離裝置(ADD)</td>\n",
              "      <td>tensor(0.3806)</td>\n",
              "      <td>tensor(0.2708)</td>\n",
              "      <td>tensor(0.3720)</td>\n",
              "      <td>tensor(1.0234)</td>\n",
              "    </tr>\n",
              "    <tr>\n",
              "      <th>4</th>\n",
              "      <td>\\n，本計畫於施工期間共規劃2種水\\n下監測，其目的及規劃內容分別說明如下： \\n一、 水...</td>\n",
              "      <td>tensor(0.2692)</td>\n",
              "      <td>tensor(0.4633)</td>\n",
              "      <td>tensor(0.2864)</td>\n",
              "      <td>tensor(1.0189)</td>\n",
              "    </tr>\n",
              "    <tr>\n",
              "      <th>...</th>\n",
              "      <td>...</td>\n",
              "      <td>...</td>\n",
              "      <td>...</td>\n",
              "      <td>...</td>\n",
              "      <td>...</td>\n",
              "    </tr>\n",
              "    <tr>\n",
              "      <th>86</th>\n",
              "      <td>\\n另本開發集團沃旭能源公司已於107年\\n2月7日宣布在彰化建立亞洲首個百萬\\n瓦等級儲...</td>\n",
              "      <td>tensor(-0.0418)</td>\n",
              "      <td>tensor(-0.0208)</td>\n",
              "      <td>tensor(-0.0679)</td>\n",
              "      <td>tensor(-0.1305)</td>\n",
              "    </tr>\n",
              "    <tr>\n",
              "      <th>87</th>\n",
              "      <td>\\n四、 創造在地的商機 \\n未來將在彰化投資必須的項目、如產\\n業人力需求、運輸，以在地...</td>\n",
              "      <td>tensor(-0.0703)</td>\n",
              "      <td>tensor(-0.0794)</td>\n",
              "      <td>tensor(-0.0152)</td>\n",
              "      <td>tensor(-0.1650)</td>\n",
              "    </tr>\n",
              "    <tr>\n",
              "      <th>88</th>\n",
              "      <td>\\n三、 在地人才培訓 \\n(一) 提供綠能全額獎學金(8名)保留彰\\n化子名額，預計10...</td>\n",
              "      <td>tensor(-0.0871)</td>\n",
              "      <td>tensor(-0.1202)</td>\n",
              "      <td>tensor(-0.0429)</td>\n",
              "      <td>tensor(-0.2502)</td>\n",
              "    </tr>\n",
              "    <tr>\n",
              "      <th>89</th>\n",
              "      <td>以上這些皆為本集團公司\\n自願性的企業社會責任舉措</td>\n",
              "      <td>tensor(-0.0999)</td>\n",
              "      <td>tensor(-0.1250)</td>\n",
              "      <td>tensor(-0.0614)</td>\n",
              "      <td>tensor(-0.2863)</td>\n",
              "    </tr>\n",
              "    <tr>\n",
              "      <th>90</th>\n",
              "      <td>\\n目前國際間碳交易市場包括管制市場(如\\nCDM, JI等)和自願市場(如VCS, GS...</td>\n",
              "      <td>tensor(-0.1136)</td>\n",
              "      <td>tensor(-0.1015)</td>\n",
              "      <td>tensor(-0.0818)</td>\n",
              "      <td>tensor(-0.2969)</td>\n",
              "    </tr>\n",
              "  </tbody>\n",
              "</table>\n",
              "<p>91 rows × 5 columns</p>\n",
              "</div>\n",
              "      <button class=\"colab-df-convert\" onclick=\"convertToInteractive('df-70d80f62-6505-4d48-b5d4-bba15922d733')\"\n",
              "              title=\"Convert this dataframe to an interactive table.\"\n",
              "              style=\"display:none;\">\n",
              "        \n",
              "  <svg xmlns=\"http://www.w3.org/2000/svg\" height=\"24px\"viewBox=\"0 0 24 24\"\n",
              "       width=\"24px\">\n",
              "    <path d=\"M0 0h24v24H0V0z\" fill=\"none\"/>\n",
              "    <path d=\"M18.56 5.44l.94 2.06.94-2.06 2.06-.94-2.06-.94-.94-2.06-.94 2.06-2.06.94zm-11 1L8.5 8.5l.94-2.06 2.06-.94-2.06-.94L8.5 2.5l-.94 2.06-2.06.94zm10 10l.94 2.06.94-2.06 2.06-.94-2.06-.94-.94-2.06-.94 2.06-2.06.94z\"/><path d=\"M17.41 7.96l-1.37-1.37c-.4-.4-.92-.59-1.43-.59-.52 0-1.04.2-1.43.59L10.3 9.45l-7.72 7.72c-.78.78-.78 2.05 0 2.83L4 21.41c.39.39.9.59 1.41.59.51 0 1.02-.2 1.41-.59l7.78-7.78 2.81-2.81c.8-.78.8-2.07 0-2.86zM5.41 20L4 18.59l7.72-7.72 1.47 1.35L5.41 20z\"/>\n",
              "  </svg>\n",
              "      </button>\n",
              "      \n",
              "  <style>\n",
              "    .colab-df-container {\n",
              "      display:flex;\n",
              "      flex-wrap:wrap;\n",
              "      gap: 12px;\n",
              "    }\n",
              "\n",
              "    .colab-df-convert {\n",
              "      background-color: #E8F0FE;\n",
              "      border: none;\n",
              "      border-radius: 50%;\n",
              "      cursor: pointer;\n",
              "      display: none;\n",
              "      fill: #1967D2;\n",
              "      height: 32px;\n",
              "      padding: 0 0 0 0;\n",
              "      width: 32px;\n",
              "    }\n",
              "\n",
              "    .colab-df-convert:hover {\n",
              "      background-color: #E2EBFA;\n",
              "      box-shadow: 0px 1px 2px rgba(60, 64, 67, 0.3), 0px 1px 3px 1px rgba(60, 64, 67, 0.15);\n",
              "      fill: #174EA6;\n",
              "    }\n",
              "\n",
              "    [theme=dark] .colab-df-convert {\n",
              "      background-color: #3B4455;\n",
              "      fill: #D2E3FC;\n",
              "    }\n",
              "\n",
              "    [theme=dark] .colab-df-convert:hover {\n",
              "      background-color: #434B5C;\n",
              "      box-shadow: 0px 1px 3px 1px rgba(0, 0, 0, 0.15);\n",
              "      filter: drop-shadow(0px 1px 2px rgba(0, 0, 0, 0.3));\n",
              "      fill: #FFFFFF;\n",
              "    }\n",
              "  </style>\n",
              "\n",
              "      <script>\n",
              "        const buttonEl =\n",
              "          document.querySelector('#df-70d80f62-6505-4d48-b5d4-bba15922d733 button.colab-df-convert');\n",
              "        buttonEl.style.display =\n",
              "          google.colab.kernel.accessAllowed ? 'block' : 'none';\n",
              "\n",
              "        async function convertToInteractive(key) {\n",
              "          const element = document.querySelector('#df-70d80f62-6505-4d48-b5d4-bba15922d733');\n",
              "          const dataTable =\n",
              "            await google.colab.kernel.invokeFunction('convertToInteractive',\n",
              "                                                     [key], {});\n",
              "          if (!dataTable) return;\n",
              "\n",
              "          const docLinkHtml = 'Like what you see? Visit the ' +\n",
              "            '<a target=\"_blank\" href=https://colab.research.google.com/notebooks/data_table.ipynb>data table notebook</a>'\n",
              "            + ' to learn more about interactive tables.';\n",
              "          element.innerHTML = '';\n",
              "          dataTable['output_type'] = 'display_data';\n",
              "          await google.colab.output.renderOutput(dataTable, element);\n",
              "          const docLink = document.createElement('div');\n",
              "          docLink.innerHTML = docLinkHtml;\n",
              "          element.appendChild(docLink);\n",
              "        }\n",
              "      </script>\n",
              "    </div>\n",
              "  </div>\n",
              "  "
            ]
          },
          "metadata": {},
          "execution_count": 23
        }
      ]
    },
    {
      "cell_type": "code",
      "source": [],
      "metadata": {
        "id": "Va-FoAP6fhDs"
      },
      "execution_count": null,
      "outputs": []
    },
    {
      "cell_type": "markdown",
      "source": [
        "## determine threshold"
      ],
      "metadata": {
        "id": "Esr-E5_Yfhtc"
      }
    },
    {
      "cell_type": "code",
      "source": [],
      "metadata": {
        "id": "eqq6twvkgLs8"
      },
      "execution_count": null,
      "outputs": []
    },
    {
      "cell_type": "markdown",
      "source": [
        "## Summary with GPT "
      ],
      "metadata": {
        "id": "vN5ndThogMK7"
      }
    },
    {
      "cell_type": "code",
      "source": [
        "#I think we can just give it a bunch of sentences and let it write a summary of the specs that are mentioned. If this does not work we will have to try to find a way to put the sentences in the dataframe above \n",
        "#back into the original order. We would have to assign a sentence number to all of the sentences when we split it. \n"
      ],
      "metadata": {
        "id": "fXfEkG-bgRhL"
      },
      "execution_count": null,
      "outputs": []
    },
    {
      "cell_type": "code",
      "source": [
        "#try to find a way to copy all of the text form the df and put it in a variable with the type string, this will make it easier to copy paste it into the GPT API. \n",
        "sbert_out=df.head(12)\n",
        "sbert_out=sbert_out['text']\n",
        "sbert_out=sbert_out.to_frame()\n",
        "sbert_out"
      ],
      "metadata": {
        "id": "FLm4bSrejPSs",
        "outputId": "a373618c-0f93-4c9a-ad79-53d14dabf09d",
        "colab": {
          "base_uri": "https://localhost:8080/",
          "height": 364
        }
      },
      "execution_count": 41,
      "outputs": [
        {
          "output_type": "execute_result",
          "data": {
            "text/plain": [
              "                                                 text\n",
              "0    \\n－ \\n－ \\n(2)依據噪音振動模擬\\n結果顯示，陸上施\\n工及風機營運後之\\n全頻...\n",
              "1    \\n二、 水下噪音監測 \\n水下噪音監測之目的係為確認打樁期\\n間之水下噪音值是否超出值，...\n",
              "2    \\n3.開發行為屬點狀開\\n發 ， 無 大 面 積 施\\n工，環境影響說明\\n書中已針對施...\n",
              "3            \\n8.1.2.1 \\n8-5 \\n(五)施工前不使用聲音驅\\n離裝置(ADD)\n",
              "4    \\n，本計畫於施工期間共規劃2種水\\n下監測，其目的及規劃內容分別說明如下： \\n一、 水...\n",
              "5    \\n，「不使用聲音驅離裝置(ADD)\\n」之承諾，將納入環境影響說明書8.1.2.1節\\n...\n",
              "6   現依\\n第327次環境影響評估審查委員會決議\\n內容修正為「施工期間於距離打樁位\\n8.1....\n",
              "7   此項承諾之相關文字內容已載\\n於環說報告書8.1.2.1節(P8-6~7)，並與\\n環說報告...\n",
              "8    \\n8.1.1 \\n8-1 \\n(二)施工期間於距離打樁\\n位置外750公尺處選擇\\n合理...\n",
              "9                             \\n(二) 協助指導學生離岸風機相關的論\\n文\n",
              "10   \\n－ \\n－ \\n(4)鯨豚：4案風場均\\n非位於中華白海豚\\n野生動物重要棲息\\n環境...\n",
              "11   \\n，打樁工程應採緩啟動(softstart)\\n持續至少30分鐘，由低力道的打樁慢慢漸\\..."
            ],
            "text/html": [
              "\n",
              "  <div id=\"df-4c904368-2ec2-49a0-a32e-7a8ddfb23c7a\">\n",
              "    <div class=\"colab-df-container\">\n",
              "      <div>\n",
              "<style scoped>\n",
              "    .dataframe tbody tr th:only-of-type {\n",
              "        vertical-align: middle;\n",
              "    }\n",
              "\n",
              "    .dataframe tbody tr th {\n",
              "        vertical-align: top;\n",
              "    }\n",
              "\n",
              "    .dataframe thead th {\n",
              "        text-align: right;\n",
              "    }\n",
              "</style>\n",
              "<table border=\"1\" class=\"dataframe\">\n",
              "  <thead>\n",
              "    <tr style=\"text-align: right;\">\n",
              "      <th></th>\n",
              "      <th>text</th>\n",
              "    </tr>\n",
              "  </thead>\n",
              "  <tbody>\n",
              "    <tr>\n",
              "      <th>0</th>\n",
              "      <td>\\n－ \\n－ \\n(2)依據噪音振動模擬\\n結果顯示，陸上施\\n工及風機營運後之\\n全頻...</td>\n",
              "    </tr>\n",
              "    <tr>\n",
              "      <th>1</th>\n",
              "      <td>\\n二、 水下噪音監測 \\n水下噪音監測之目的係為確認打樁期\\n間之水下噪音值是否超出值，...</td>\n",
              "    </tr>\n",
              "    <tr>\n",
              "      <th>2</th>\n",
              "      <td>\\n3.開發行為屬點狀開\\n發 ， 無 大 面 積 施\\n工，環境影響說明\\n書中已針對施...</td>\n",
              "    </tr>\n",
              "    <tr>\n",
              "      <th>3</th>\n",
              "      <td>\\n8.1.2.1 \\n8-5 \\n(五)施工前不使用聲音驅\\n離裝置(ADD)</td>\n",
              "    </tr>\n",
              "    <tr>\n",
              "      <th>4</th>\n",
              "      <td>\\n，本計畫於施工期間共規劃2種水\\n下監測，其目的及規劃內容分別說明如下： \\n一、 水...</td>\n",
              "    </tr>\n",
              "    <tr>\n",
              "      <th>5</th>\n",
              "      <td>\\n，「不使用聲音驅離裝置(ADD)\\n」之承諾，將納入環境影響說明書8.1.2.1節\\n...</td>\n",
              "    </tr>\n",
              "    <tr>\n",
              "      <th>6</th>\n",
              "      <td>現依\\n第327次環境影響評估審查委員會決議\\n內容修正為「施工期間於距離打樁位\\n8.1....</td>\n",
              "    </tr>\n",
              "    <tr>\n",
              "      <th>7</th>\n",
              "      <td>此項承諾之相關文字內容已載\\n於環說報告書8.1.2.1節(P8-6~7)，並與\\n環說報告...</td>\n",
              "    </tr>\n",
              "    <tr>\n",
              "      <th>8</th>\n",
              "      <td>\\n8.1.1 \\n8-1 \\n(二)施工期間於距離打樁\\n位置外750公尺處選擇\\n合理...</td>\n",
              "    </tr>\n",
              "    <tr>\n",
              "      <th>9</th>\n",
              "      <td>\\n(二) 協助指導學生離岸風機相關的論\\n文</td>\n",
              "    </tr>\n",
              "    <tr>\n",
              "      <th>10</th>\n",
              "      <td>\\n－ \\n－ \\n(4)鯨豚：4案風場均\\n非位於中華白海豚\\n野生動物重要棲息\\n環境...</td>\n",
              "    </tr>\n",
              "    <tr>\n",
              "      <th>11</th>\n",
              "      <td>\\n，打樁工程應採緩啟動(softstart)\\n持續至少30分鐘，由低力道的打樁慢慢漸\\...</td>\n",
              "    </tr>\n",
              "  </tbody>\n",
              "</table>\n",
              "</div>\n",
              "      <button class=\"colab-df-convert\" onclick=\"convertToInteractive('df-4c904368-2ec2-49a0-a32e-7a8ddfb23c7a')\"\n",
              "              title=\"Convert this dataframe to an interactive table.\"\n",
              "              style=\"display:none;\">\n",
              "        \n",
              "  <svg xmlns=\"http://www.w3.org/2000/svg\" height=\"24px\"viewBox=\"0 0 24 24\"\n",
              "       width=\"24px\">\n",
              "    <path d=\"M0 0h24v24H0V0z\" fill=\"none\"/>\n",
              "    <path d=\"M18.56 5.44l.94 2.06.94-2.06 2.06-.94-2.06-.94-.94-2.06-.94 2.06-2.06.94zm-11 1L8.5 8.5l.94-2.06 2.06-.94-2.06-.94L8.5 2.5l-.94 2.06-2.06.94zm10 10l.94 2.06.94-2.06 2.06-.94-2.06-.94-.94-2.06-.94 2.06-2.06.94z\"/><path d=\"M17.41 7.96l-1.37-1.37c-.4-.4-.92-.59-1.43-.59-.52 0-1.04.2-1.43.59L10.3 9.45l-7.72 7.72c-.78.78-.78 2.05 0 2.83L4 21.41c.39.39.9.59 1.41.59.51 0 1.02-.2 1.41-.59l7.78-7.78 2.81-2.81c.8-.78.8-2.07 0-2.86zM5.41 20L4 18.59l7.72-7.72 1.47 1.35L5.41 20z\"/>\n",
              "  </svg>\n",
              "      </button>\n",
              "      \n",
              "  <style>\n",
              "    .colab-df-container {\n",
              "      display:flex;\n",
              "      flex-wrap:wrap;\n",
              "      gap: 12px;\n",
              "    }\n",
              "\n",
              "    .colab-df-convert {\n",
              "      background-color: #E8F0FE;\n",
              "      border: none;\n",
              "      border-radius: 50%;\n",
              "      cursor: pointer;\n",
              "      display: none;\n",
              "      fill: #1967D2;\n",
              "      height: 32px;\n",
              "      padding: 0 0 0 0;\n",
              "      width: 32px;\n",
              "    }\n",
              "\n",
              "    .colab-df-convert:hover {\n",
              "      background-color: #E2EBFA;\n",
              "      box-shadow: 0px 1px 2px rgba(60, 64, 67, 0.3), 0px 1px 3px 1px rgba(60, 64, 67, 0.15);\n",
              "      fill: #174EA6;\n",
              "    }\n",
              "\n",
              "    [theme=dark] .colab-df-convert {\n",
              "      background-color: #3B4455;\n",
              "      fill: #D2E3FC;\n",
              "    }\n",
              "\n",
              "    [theme=dark] .colab-df-convert:hover {\n",
              "      background-color: #434B5C;\n",
              "      box-shadow: 0px 1px 3px 1px rgba(0, 0, 0, 0.15);\n",
              "      filter: drop-shadow(0px 1px 2px rgba(0, 0, 0, 0.3));\n",
              "      fill: #FFFFFF;\n",
              "    }\n",
              "  </style>\n",
              "\n",
              "      <script>\n",
              "        const buttonEl =\n",
              "          document.querySelector('#df-4c904368-2ec2-49a0-a32e-7a8ddfb23c7a button.colab-df-convert');\n",
              "        buttonEl.style.display =\n",
              "          google.colab.kernel.accessAllowed ? 'block' : 'none';\n",
              "\n",
              "        async function convertToInteractive(key) {\n",
              "          const element = document.querySelector('#df-4c904368-2ec2-49a0-a32e-7a8ddfb23c7a');\n",
              "          const dataTable =\n",
              "            await google.colab.kernel.invokeFunction('convertToInteractive',\n",
              "                                                     [key], {});\n",
              "          if (!dataTable) return;\n",
              "\n",
              "          const docLinkHtml = 'Like what you see? Visit the ' +\n",
              "            '<a target=\"_blank\" href=https://colab.research.google.com/notebooks/data_table.ipynb>data table notebook</a>'\n",
              "            + ' to learn more about interactive tables.';\n",
              "          element.innerHTML = '';\n",
              "          dataTable['output_type'] = 'display_data';\n",
              "          await google.colab.output.renderOutput(dataTable, element);\n",
              "          const docLink = document.createElement('div');\n",
              "          docLink.innerHTML = docLinkHtml;\n",
              "          element.appendChild(docLink);\n",
              "        }\n",
              "      </script>\n",
              "    </div>\n",
              "  </div>\n",
              "  "
            ]
          },
          "metadata": {},
          "execution_count": 41
        }
      ]
    },
    {
      "cell_type": "code",
      "source": [
        "!pip install openai"
      ],
      "metadata": {
        "id": "5JOZY-hiljdN",
        "outputId": "78cd0e61-7689-4308-c5ef-c0b61722c025",
        "colab": {
          "base_uri": "https://localhost:8080/"
        }
      },
      "execution_count": 43,
      "outputs": [
        {
          "output_type": "stream",
          "name": "stdout",
          "text": [
            "Looking in indexes: https://pypi.org/simple, https://us-python.pkg.dev/colab-wheels/public/simple/\n",
            "Collecting openai\n",
            "  Downloading openai-0.26.1.tar.gz (55 kB)\n",
            "\u001b[2K     \u001b[90m━━━━━━━━━━━━━━━━━━━━━━━━━━━━━━━━━━━━━━━━\u001b[0m \u001b[32m55.3/55.3 KB\u001b[0m \u001b[31m6.1 MB/s\u001b[0m eta \u001b[36m0:00:00\u001b[0m\n",
            "\u001b[?25h  Installing build dependencies ... \u001b[?25l\u001b[?25hdone\n",
            "  Getting requirements to build wheel ... \u001b[?25l\u001b[?25hdone\n",
            "  Preparing metadata (pyproject.toml) ... \u001b[?25l\u001b[?25hdone\n",
            "Requirement already satisfied: tqdm in /usr/local/lib/python3.8/dist-packages (from openai) (4.64.1)\n",
            "Requirement already satisfied: aiohttp in /usr/local/lib/python3.8/dist-packages (from openai) (3.8.3)\n",
            "Requirement already satisfied: requests>=2.20 in /usr/local/lib/python3.8/dist-packages (from openai) (2.25.1)\n",
            "Requirement already satisfied: certifi>=2017.4.17 in /usr/local/lib/python3.8/dist-packages (from requests>=2.20->openai) (2022.12.7)\n",
            "Requirement already satisfied: urllib3<1.27,>=1.21.1 in /usr/local/lib/python3.8/dist-packages (from requests>=2.20->openai) (1.24.3)\n",
            "Requirement already satisfied: chardet<5,>=3.0.2 in /usr/local/lib/python3.8/dist-packages (from requests>=2.20->openai) (4.0.0)\n",
            "Requirement already satisfied: idna<3,>=2.5 in /usr/local/lib/python3.8/dist-packages (from requests>=2.20->openai) (2.10)\n",
            "Requirement already satisfied: frozenlist>=1.1.1 in /usr/local/lib/python3.8/dist-packages (from aiohttp->openai) (1.3.3)\n",
            "Requirement already satisfied: attrs>=17.3.0 in /usr/local/lib/python3.8/dist-packages (from aiohttp->openai) (22.2.0)\n",
            "Requirement already satisfied: aiosignal>=1.1.2 in /usr/local/lib/python3.8/dist-packages (from aiohttp->openai) (1.3.1)\n",
            "Requirement already satisfied: async-timeout<5.0,>=4.0.0a3 in /usr/local/lib/python3.8/dist-packages (from aiohttp->openai) (4.0.2)\n",
            "Requirement already satisfied: multidict<7.0,>=4.5 in /usr/local/lib/python3.8/dist-packages (from aiohttp->openai) (6.0.4)\n",
            "Requirement already satisfied: charset-normalizer<3.0,>=2.0 in /usr/local/lib/python3.8/dist-packages (from aiohttp->openai) (2.1.1)\n",
            "Requirement already satisfied: yarl<2.0,>=1.0 in /usr/local/lib/python3.8/dist-packages (from aiohttp->openai) (1.8.2)\n",
            "Building wheels for collected packages: openai\n",
            "  Building wheel for openai (pyproject.toml) ... \u001b[?25l\u001b[?25hdone\n",
            "  Created wheel for openai: filename=openai-0.26.1-py3-none-any.whl size=67316 sha256=7881e4b6dd0c2ad2b676452782ec4c91015ef7a47d02ce4f697a92daad13b5ca\n",
            "  Stored in directory: /root/.cache/pip/wheels/2f/9c/55/95d3609ccfc463eeffb96d50c756f1f1899453b85e92021a0a\n",
            "Successfully built openai\n",
            "Installing collected packages: openai\n",
            "Successfully installed openai-0.26.1\n"
          ]
        }
      ]
    },
    {
      "cell_type": "code",
      "source": [
        "#there is one problem with chatgpt and that is that it only allows us to insert 4000 tokens. so we either have to be super selective with the information we put in, or \n",
        "#put it in in batches. \n",
        "#I think it counts whitespaces as tokens. because when I copy paste this in word it says it is only 923 words. try a regex that deletes whitespaces ands see what happens.\n",
        "import os\n",
        "import openai\n",
        "import json\n",
        "\n",
        "openai.api_key = '' #remove key when uploading to github\n",
        "summary = ''\n",
        "\n",
        "response = openai.Completion.create(\n",
        "  model=\"text-davinci-003\",\n",
        "  prompt=\"\"\"幫我寫總結，強調關於噪音的規格，請你使用比較簡單的語言。文本：0\t－ － (2)依據噪音振動模擬 結果顯示，陸上施 工及風機營運後之 全頻及低頻噪音， 經與實測背景值合 成之後，各敏感受 體皆可符合環境音 量標準，噪音增量 屬無影響或可忽略 影響\n",
        "1\t二、 水下噪音監測 水下噪音監測之目的係為確認打樁期間之水下噪音值是否超出值，故本 計畫承諾於每支基礎施工時，均於警 戒區周界(750m處)執行一次打樁噪音 監測，每次監測時將從緩啟動起開始 ，打樁全程均將監測並全程使用減噪 工法\n",
        "2\t3.開發行為屬點狀開發，無大面積施工，環境影響說明 書中已針對施工及 營運期間之「地形 及地質(含海岸地形 變 遷 影 響 分 析 ) 」 「 水 文 及 水 質 」 「空氣品質」「噪 音 振 動 ( 含 水 下 噪 音)」「風機基礎 影響」「陸域電 磁場」「廢棄物」 「剩餘土石方處理 計 畫 」 「 通 訊 干 擾」「溫室氣體減 量」「生態環境(含 陸域、海域、魚類\n",
        "3\t8.1.2.1 8-5 (五)施工前不使用聲音驅 離裝置(ADD)\n",
        "4\t，本計畫於施工期間共規劃2種水 下監測，其目的及規劃內容分別說明如下： 一、 水下聲學監測 水下聲學監測目的係為打樁期間針對 是否有鯨豚靠近施工區域而進行之監 測，本計畫原規劃內容為「施工期間 於距打樁位置750m處及1500m處各放 置2個被動式鯨豚聲音偵測器，以持續 監測是否有鯨豚在附近活動」\n",
        "5\t，「不使用聲音驅離裝置(ADD) 」之承諾，將納入環境影響說明書8.1.2.1節 「一、鯨豚」之「(二) 施工期間時的監測 及預防對策」中\n",
        "6\t現依 第327次環境影響評估審查委員會決議 內容修正為「施工期間於距離打樁位 8.1.2.1 8.2.2 8-4 8-6~7 8-26 10 審查意見 覆說明 修訂處 章節 頁次 置外750公尺處選擇合理方位設置4座 水下聲學監測設施並分布於4個方位， 持續監測打樁水下噪音值及是否有鯨 豚在附近活動」\n",
        "7\t此項承諾之相關文字內容已載 於環說報告書8.1.2.1節(P8-6~7)，並與 環說報告書表8.2.2-2「施工階段環境 監測計畫表」中「水下噪音」之第一 項監測內容相符，如表8.2.2-2所示， 請參閱\n",
        "8\t8.1.1 8-1 (二)施工期間於距離打樁 位置外750公尺處選擇 合理方位設置4座水下 聲學監測設施並分布 於4個方位，持續監測 打樁水下噪音值\n",
        "9\t(二) 協助指導學生離岸風機相關的論 文\n",
        "10\t－ － (4)鯨豚：4案風場均 非位於中華白海豚 野生動物重要棲息 環境預告範圍，並 依水下噪音模擬評 估結果，已擬定海 豚保護措施\n",
        "11\t，打樁工程應採緩啟動(softstart) 持續至少30分鐘，由低力道的打樁慢慢漸 進到全力道的打樁，讓鯨豚類仍有時間離 開打樁噪音源\"\"\", #insert promt for example:幫我寫總結，強調關於噪音的規格，請你使用比較簡單的語言/\n",
        "  temperature=0.9,\n",
        "  max_tokens=4000,\n",
        "  top_p=1,\n",
        "  frequency_penalty=0.0,\n",
        "  presence_penalty=0.0,\n",
        "  stop=[\" Human:\", \" AI:\"]\n",
        "  )\n",
        "response\n",
        "json_object = json.loads(str(response))\n",
        "text = json_object['choices'][0]['text']\n",
        "summary = summary + text\n",
        "\n",
        "summary"
      ],
      "metadata": {
        "id": "IYIvOX60hbVm",
        "outputId": "fa207fe4-7e3f-42bf-bd5c-9f3f9124304c",
        "colab": {
          "base_uri": "https://localhost:8080/",
          "height": 381
        }
      },
      "execution_count": 45,
      "outputs": [
        {
          "output_type": "error",
          "ename": "InvalidRequestError",
          "evalue": "ignored",
          "traceback": [
            "\u001b[0;31m---------------------------------------------------------------------------\u001b[0m",
            "\u001b[0;31mInvalidRequestError\u001b[0m                       Traceback (most recent call last)",
            "\u001b[0;32m<ipython-input-45-37d590da627a>\u001b[0m in \u001b[0;36m<module>\u001b[0;34m\u001b[0m\n\u001b[1;32m      8\u001b[0m \u001b[0msummary\u001b[0m \u001b[0;34m=\u001b[0m \u001b[0;34m''\u001b[0m\u001b[0;34m\u001b[0m\u001b[0;34m\u001b[0m\u001b[0m\n\u001b[1;32m      9\u001b[0m \u001b[0;34m\u001b[0m\u001b[0m\n\u001b[0;32m---> 10\u001b[0;31m response = openai.Completion.create(\n\u001b[0m\u001b[1;32m     11\u001b[0m   \u001b[0mmodel\u001b[0m\u001b[0;34m=\u001b[0m\u001b[0;34m\"text-davinci-003\"\u001b[0m\u001b[0;34m,\u001b[0m\u001b[0;34m\u001b[0m\u001b[0;34m\u001b[0m\u001b[0m\n\u001b[1;32m     12\u001b[0m   prompt=\"\"\"幫我寫總結，強調關於噪音的規格，請你使用比較簡單的語言。文本：0\t－ － (2)依據噪音振動模擬 結果顯示，陸上施 工及風機營運後之 全頻及低頻噪音， 經與實測背景值合 成之後，各敏感受 體皆可符合環境音 量標準，噪音增量 屬無影響或可忽略 影響\n",
            "\u001b[0;32m/usr/local/lib/python3.8/dist-packages/openai/api_resources/completion.py\u001b[0m in \u001b[0;36mcreate\u001b[0;34m(cls, *args, **kwargs)\u001b[0m\n\u001b[1;32m     23\u001b[0m         \u001b[0;32mwhile\u001b[0m \u001b[0;32mTrue\u001b[0m\u001b[0;34m:\u001b[0m\u001b[0;34m\u001b[0m\u001b[0;34m\u001b[0m\u001b[0m\n\u001b[1;32m     24\u001b[0m             \u001b[0;32mtry\u001b[0m\u001b[0;34m:\u001b[0m\u001b[0;34m\u001b[0m\u001b[0;34m\u001b[0m\u001b[0m\n\u001b[0;32m---> 25\u001b[0;31m                 \u001b[0;32mreturn\u001b[0m \u001b[0msuper\u001b[0m\u001b[0;34m(\u001b[0m\u001b[0;34m)\u001b[0m\u001b[0;34m.\u001b[0m\u001b[0mcreate\u001b[0m\u001b[0;34m(\u001b[0m\u001b[0;34m*\u001b[0m\u001b[0margs\u001b[0m\u001b[0;34m,\u001b[0m \u001b[0;34m**\u001b[0m\u001b[0mkwargs\u001b[0m\u001b[0;34m)\u001b[0m\u001b[0;34m\u001b[0m\u001b[0;34m\u001b[0m\u001b[0m\n\u001b[0m\u001b[1;32m     26\u001b[0m             \u001b[0;32mexcept\u001b[0m \u001b[0mTryAgain\u001b[0m \u001b[0;32mas\u001b[0m \u001b[0me\u001b[0m\u001b[0;34m:\u001b[0m\u001b[0;34m\u001b[0m\u001b[0;34m\u001b[0m\u001b[0m\n\u001b[1;32m     27\u001b[0m                 \u001b[0;32mif\u001b[0m \u001b[0mtimeout\u001b[0m \u001b[0;32mis\u001b[0m \u001b[0;32mnot\u001b[0m \u001b[0;32mNone\u001b[0m \u001b[0;32mand\u001b[0m \u001b[0mtime\u001b[0m\u001b[0;34m.\u001b[0m\u001b[0mtime\u001b[0m\u001b[0;34m(\u001b[0m\u001b[0;34m)\u001b[0m \u001b[0;34m>\u001b[0m \u001b[0mstart\u001b[0m \u001b[0;34m+\u001b[0m \u001b[0mtimeout\u001b[0m\u001b[0;34m:\u001b[0m\u001b[0;34m\u001b[0m\u001b[0;34m\u001b[0m\u001b[0m\n",
            "\u001b[0;32m/usr/local/lib/python3.8/dist-packages/openai/api_resources/abstract/engine_api_resource.py\u001b[0m in \u001b[0;36mcreate\u001b[0;34m(cls, api_key, api_base, api_type, request_id, api_version, organization, **params)\u001b[0m\n\u001b[1;32m    151\u001b[0m         )\n\u001b[1;32m    152\u001b[0m \u001b[0;34m\u001b[0m\u001b[0m\n\u001b[0;32m--> 153\u001b[0;31m         response, _, api_key = requestor.request(\n\u001b[0m\u001b[1;32m    154\u001b[0m             \u001b[0;34m\"post\"\u001b[0m\u001b[0;34m,\u001b[0m\u001b[0;34m\u001b[0m\u001b[0;34m\u001b[0m\u001b[0m\n\u001b[1;32m    155\u001b[0m             \u001b[0murl\u001b[0m\u001b[0;34m,\u001b[0m\u001b[0;34m\u001b[0m\u001b[0;34m\u001b[0m\u001b[0m\n",
            "\u001b[0;32m/usr/local/lib/python3.8/dist-packages/openai/api_requestor.py\u001b[0m in \u001b[0;36mrequest\u001b[0;34m(self, method, url, params, headers, files, stream, request_id, request_timeout)\u001b[0m\n\u001b[1;32m    225\u001b[0m             \u001b[0mrequest_timeout\u001b[0m\u001b[0;34m=\u001b[0m\u001b[0mrequest_timeout\u001b[0m\u001b[0;34m,\u001b[0m\u001b[0;34m\u001b[0m\u001b[0;34m\u001b[0m\u001b[0m\n\u001b[1;32m    226\u001b[0m         )\n\u001b[0;32m--> 227\u001b[0;31m         \u001b[0mresp\u001b[0m\u001b[0;34m,\u001b[0m \u001b[0mgot_stream\u001b[0m \u001b[0;34m=\u001b[0m \u001b[0mself\u001b[0m\u001b[0;34m.\u001b[0m\u001b[0m_interpret_response\u001b[0m\u001b[0;34m(\u001b[0m\u001b[0mresult\u001b[0m\u001b[0;34m,\u001b[0m \u001b[0mstream\u001b[0m\u001b[0;34m)\u001b[0m\u001b[0;34m\u001b[0m\u001b[0;34m\u001b[0m\u001b[0m\n\u001b[0m\u001b[1;32m    228\u001b[0m         \u001b[0;32mreturn\u001b[0m \u001b[0mresp\u001b[0m\u001b[0;34m,\u001b[0m \u001b[0mgot_stream\u001b[0m\u001b[0;34m,\u001b[0m \u001b[0mself\u001b[0m\u001b[0;34m.\u001b[0m\u001b[0mapi_key\u001b[0m\u001b[0;34m\u001b[0m\u001b[0;34m\u001b[0m\u001b[0m\n\u001b[1;32m    229\u001b[0m \u001b[0;34m\u001b[0m\u001b[0m\n",
            "\u001b[0;32m/usr/local/lib/python3.8/dist-packages/openai/api_requestor.py\u001b[0m in \u001b[0;36m_interpret_response\u001b[0;34m(self, result, stream)\u001b[0m\n\u001b[1;32m    618\u001b[0m         \u001b[0;32melse\u001b[0m\u001b[0;34m:\u001b[0m\u001b[0;34m\u001b[0m\u001b[0;34m\u001b[0m\u001b[0m\n\u001b[1;32m    619\u001b[0m             return (\n\u001b[0;32m--> 620\u001b[0;31m                 self._interpret_response_line(\n\u001b[0m\u001b[1;32m    621\u001b[0m                     \u001b[0mresult\u001b[0m\u001b[0;34m.\u001b[0m\u001b[0mcontent\u001b[0m\u001b[0;34m.\u001b[0m\u001b[0mdecode\u001b[0m\u001b[0;34m(\u001b[0m\u001b[0;34m\"utf-8\"\u001b[0m\u001b[0;34m)\u001b[0m\u001b[0;34m,\u001b[0m\u001b[0;34m\u001b[0m\u001b[0;34m\u001b[0m\u001b[0m\n\u001b[1;32m    622\u001b[0m                     \u001b[0mresult\u001b[0m\u001b[0;34m.\u001b[0m\u001b[0mstatus_code\u001b[0m\u001b[0;34m,\u001b[0m\u001b[0;34m\u001b[0m\u001b[0;34m\u001b[0m\u001b[0m\n",
            "\u001b[0;32m/usr/local/lib/python3.8/dist-packages/openai/api_requestor.py\u001b[0m in \u001b[0;36m_interpret_response_line\u001b[0;34m(self, rbody, rcode, rheaders, stream)\u001b[0m\n\u001b[1;32m    678\u001b[0m         \u001b[0mstream_error\u001b[0m \u001b[0;34m=\u001b[0m \u001b[0mstream\u001b[0m \u001b[0;32mand\u001b[0m \u001b[0;34m\"error\"\u001b[0m \u001b[0;32min\u001b[0m \u001b[0mresp\u001b[0m\u001b[0;34m.\u001b[0m\u001b[0mdata\u001b[0m\u001b[0;34m\u001b[0m\u001b[0;34m\u001b[0m\u001b[0m\n\u001b[1;32m    679\u001b[0m         \u001b[0;32mif\u001b[0m \u001b[0mstream_error\u001b[0m \u001b[0;32mor\u001b[0m \u001b[0;32mnot\u001b[0m \u001b[0;36m200\u001b[0m \u001b[0;34m<=\u001b[0m \u001b[0mrcode\u001b[0m \u001b[0;34m<\u001b[0m \u001b[0;36m300\u001b[0m\u001b[0;34m:\u001b[0m\u001b[0;34m\u001b[0m\u001b[0;34m\u001b[0m\u001b[0m\n\u001b[0;32m--> 680\u001b[0;31m             raise self.handle_error_response(\n\u001b[0m\u001b[1;32m    681\u001b[0m                 \u001b[0mrbody\u001b[0m\u001b[0;34m,\u001b[0m \u001b[0mrcode\u001b[0m\u001b[0;34m,\u001b[0m \u001b[0mresp\u001b[0m\u001b[0;34m.\u001b[0m\u001b[0mdata\u001b[0m\u001b[0;34m,\u001b[0m \u001b[0mrheaders\u001b[0m\u001b[0;34m,\u001b[0m \u001b[0mstream_error\u001b[0m\u001b[0;34m=\u001b[0m\u001b[0mstream_error\u001b[0m\u001b[0;34m\u001b[0m\u001b[0;34m\u001b[0m\u001b[0m\n\u001b[1;32m    682\u001b[0m             )\n",
            "\u001b[0;31mInvalidRequestError\u001b[0m: This model's maximum context length is 4097 tokens, however you requested 6289 tokens (2289 in your prompt; 4000 for the completion). Please reduce your prompt; or completion length."
          ]
        }
      ]
    }
  ]
}