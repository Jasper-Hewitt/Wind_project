{
  "nbformat": 4,
  "nbformat_minor": 0,
  "metadata": {
    "colab": {
      "provenance": [],
      "authorship_tag": "ABX9TyMtoNlQy3lGMuGb8ZS7IwLS",
      "include_colab_link": true
    },
    "kernelspec": {
      "name": "python3",
      "display_name": "Python 3"
    },
    "language_info": {
      "name": "python"
    }
  },
  "cells": [
    {
      "cell_type": "markdown",
      "metadata": {
        "id": "view-in-github",
        "colab_type": "text"
      },
      "source": [
        "<a href=\"https://colab.research.google.com/github/Jasper-Hewitt/Wind_project/blob/main/alternative_finding_noisepollution.ipynb\" target=\"_parent\"><img src=\"https://colab.research.google.com/assets/colab-badge.svg\" alt=\"Open In Colab\"/></a>"
      ]
    },
    {
      "cell_type": "code",
      "source": [
        "#this one uses a different regex, split on 。 and ：\n",
        "#many of the units of information within the PDF are actually only one sentence so I guess this is fine. \n",
        "!pip install fitz\n",
        "!pip install static\n",
        "!pip install frontend\n",
        "!pip install pymupdf --upgrade"
      ],
      "metadata": {
        "id": "Dul8i6-4aEx9"
      },
      "execution_count": null,
      "outputs": []
    },
    {
      "cell_type": "code",
      "source": [
        "# mkdir static\n",
        "import fitz\n",
        "\n",
        "doc = fitz.open(\"dragged_130_146.pdf\")\n",
        "\n",
        "for page in doc:\n",
        "    text = page.get_text(\"text\")\n",
        "    with open(\"output3.txt\", \"a\") as f:\n",
        "        f.write(text)\n"
      ],
      "metadata": {
        "id": "5xCYdNT2aDkI"
      },
      "execution_count": null,
      "outputs": []
    },
    {
      "cell_type": "code",
      "source": [
        "with open('output3.txt', 'r') as file:\n",
        "    # Read the contents of the file\n",
        "    contents = file.read()\n",
        "    # Print the contents\n",
        "    print(contents)"
      ],
      "metadata": {
        "id": "kjHTNb_qccQB"
      },
      "execution_count": null,
      "outputs": []
    },
    {
      "cell_type": "code",
      "source": [
        "import re\n",
        "#pattern = \"(\\(一\\))|(\\(二\\))|(\\(三\\))|(\\(四\\))|(\\(五\\))|(\\(六\\))|(\\(七\\))|(\\(八\\))|(\\(九\\))|(\\(十\\))|(^[0-9]+\\.)\"\n",
        "#split_contents = re.split(pattern, contents)"
      ],
      "metadata": {
        "id": "juaMFvzg2PUN"
      },
      "execution_count": null,
      "outputs": []
    },
    {
      "cell_type": "code",
      "source": [
        "pattern = \"。|:\"\n",
        "\n",
        "split_contents = re.split(pattern, contents)\n",
        "\n",
        "# print(sentences)\n"
      ],
      "metadata": {
        "id": "4BNGCdG62dme"
      },
      "execution_count": null,
      "outputs": []
    },
    {
      "cell_type": "code",
      "source": [
        "split_contents"
      ],
      "metadata": {
        "id": "LyUTKKrK5g-Q"
      },
      "execution_count": null,
      "outputs": []
    },
    {
      "cell_type": "code",
      "source": [
        "len(split_contents)"
      ],
      "metadata": {
        "id": "nRFrSOXh2fNO",
        "outputId": "2898263f-0db4-4736-dd5f-fb81f53214d2",
        "colab": {
          "base_uri": "https://localhost:8080/"
        }
      },
      "execution_count": null,
      "outputs": [
        {
          "output_type": "execute_result",
          "data": {
            "text/plain": [
              "128"
            ]
          },
          "metadata": {},
          "execution_count": 33
        }
      ]
    },
    {
      "cell_type": "code",
      "source": [
        "# import re\n",
        "# split_contents = re.split(r'\\d+\\.', contents)\n",
        "# split_contents"
      ],
      "metadata": {
        "id": "EiNCc-KKeVO6"
      },
      "execution_count": null,
      "outputs": []
    },
    {
      "cell_type": "code",
      "source": [
        "!pip install sentence_transformers\n",
        "#also works with entire alineas \n",
        "#below are some other models that don't work. I get a warning signal that says it can't find the model so it switches to MEAN pooling instead. \n",
        "#('all-MiniLM-L6-v2'), one of the most popular ones, works but it is an English model \n",
        "#(\"uer/sbert-base-chinese-nli\")#('shibing624/text2vec-base-chinese')#('all-MiniLM-L6-v2') \n",
        "\n",
        "from sentence_transformers import SentenceTransformer, util\n",
        "import torch\n",
        "\n",
        "#alternative model by same creators: (\"sentence-transformers/paraphrase-multilingual-MiniLM-L12-v2\"). This one appears to be more popular. Compare results.\n",
        "embedder = SentenceTransformer(\"distiluse-base-multilingual-cased-v1\")\n",
        "\n",
        "# Corpus with example sentences\n",
        "corpus = split_contents\n",
        "corpus_embeddings = embedder.encode(corpus, convert_to_tensor=True)\n",
        "\n",
        "# Query sentences:\n",
        "queries = ['噪音', '水下噪音','聲音']\n",
        "\n",
        "# Find the closest X sentences of the corpus for each query sentence based on cosine similarity\n",
        "top_k = min(68, len(corpus))\n",
        "for query in queries:\n",
        "    query_embedding = embedder.encode(query, convert_to_tensor=True)\n",
        "\n",
        "    # We use cosine-similarity and torch.topk to find the highest 5 scores\n",
        "    cos_scores = util.cos_sim(query_embedding, corpus_embeddings)[0]\n",
        "    top_results = torch.topk(cos_scores, k=top_k)\n",
        "\n",
        "    print(\"\\n\\n======================\\n\\n\")\n",
        "    print(\"Query:\", query)\n",
        "    print(\"\\nTop X most similar sentences in corpus:\")\n",
        "\n",
        "    for score, idx in zip(top_results[0], top_results[1]):\n",
        "        print(corpus[idx], \"(Score: {:.4f})\".format(score))"
      ],
      "metadata": {
        "id": "CoAGVbBppXjC"
      },
      "execution_count": null,
      "outputs": []
    },
    {
      "cell_type": "markdown",
      "source": [
        "#calculate accumulated similarity score per keyword"
      ],
      "metadata": {
        "id": "6-RJ0t2mJxTk"
      }
    },
    {
      "cell_type": "code",
      "source": [
        "sentence_scores = {sentence: {query: 0 for query in queries} for sentence in corpus}\n",
        "\n",
        "for query in queries:\n",
        "    query_embedding = embedder.encode(query, convert_to_tensor=True)\n",
        "    cos_scores = util.cos_sim(query_embedding, corpus_embeddings)[0]\n",
        "    top_results = torch.topk(cos_scores, k=len(corpus))\n",
        "    for score, idx in zip(top_results[0], top_results[1]):\n",
        "        sentence = corpus[idx]\n",
        "        sentence_scores[sentence][query] = score"
      ],
      "metadata": {
        "id": "3VkUraU4xILS"
      },
      "execution_count": null,
      "outputs": []
    },
    {
      "cell_type": "code",
      "source": [
        "len(sentence_scores)"
      ],
      "metadata": {
        "colab": {
          "base_uri": "https://localhost:8080/"
        },
        "id": "0fmk_VLzxP9k",
        "outputId": "a07f16f7-8480-4c40-dd52-7ad750d1a63d"
      },
      "execution_count": null,
      "outputs": [
        {
          "output_type": "execute_result",
          "data": {
            "text/plain": [
              "94"
            ]
          },
          "metadata": {},
          "execution_count": 36
        }
      ]
    },
    {
      "cell_type": "code",
      "source": [
        "import pandas as pd\n",
        "#in case we use more or less keywords, we will have to adjust this code slightly\n",
        "df = pd.DataFrame([[sentence, scores[queries[0]], scores[queries[1]], \n",
        "                    scores[queries[2]], scores[queries[0]]+scores[queries[1]]+scores[queries[2]]] \n",
        "                   for sentence, scores in sentence_scores.items()], \n",
        "                  columns=['text', 'similarity_score1', 'similarity_score2', 'similarity_score3', \n",
        "                           'accumulated_score'])\n",
        "df = df.sort_values(by='accumulated_score', ascending=False)"
      ],
      "metadata": {
        "id": "l-SLy5Yh9RLs"
      },
      "execution_count": null,
      "outputs": []
    },
    {
      "cell_type": "code",
      "source": [
        "#output\n",
        "df=df.reset_index(drop=True)\n",
        "df"
      ],
      "metadata": {
        "colab": {
          "base_uri": "https://localhost:8080/",
          "height": 3740
        },
        "id": "KdQiZY-Z-QxY",
        "outputId": "ce761033-6971-43a9-b47d-944cabb3c746"
      },
      "execution_count": null,
      "outputs": [
        {
          "output_type": "execute_result",
          "data": {
            "text/plain": [
              "                                                 text similarity_score1  \\\n",
              "0    \\n二、 水下噪音監測 \\n水下噪音監測之目的係為確認打樁期\\n間之水下噪音值是否超出�值...    tensor(0.3657)   \n",
              "1                                                \\n��    tensor(0.4494)   \n",
              "2    \\n－ \\n－ \\n(2)依據噪音振動模擬\\n結果顯示，陸上施\\n工及風機營運後之\\n全頻...    tensor(0.4357)   \n",
              "3    \\n3.開發行為屬點狀開\\n發 ， 無 大 面 積 施\\n工，環境影響說明\\n書中已針對施...    tensor(0.2976)   \n",
              "4    \\n8.1.1 \\n8-1 \\n(二)施工期間於距離打樁\\n位置外750公尺處選擇\\n合理...    tensor(0.2711)   \n",
              "..                                                ...               ...   \n",
              "89   \\n回饋計畫」有關內容納入附錄十八，說明\\n如下： \\n目前本計畫已與彰化縣政府達成初步共...   tensor(-0.0404)   \n",
              "90   \\n(二) 黃金標準 (Gold Standard)：黃金\\n標準為由世界自然基金會和其他...   tensor(-0.0172)   \n",
              "91                            \\n二、 在地���花�原則上也會配合辦理\\n   tensor(-0.0652)   \n",
              "92                     \\n(五) 邀請丹麥頂尖大學來台在國內及\\n彰化地區大學開課   tensor(-0.0552)   \n",
              "93   \\n三、 在地人才培訓 \\n(一) 提供綠能全額獎學金(8名)保留彰\\n化子�名額，預計1...   tensor(-0.0509)   \n",
              "\n",
              "   similarity_score2 similarity_score3 accumulated_score  \n",
              "0     tensor(0.5341)    tensor(0.2998)    tensor(1.1996)  \n",
              "1     tensor(0.2770)    tensor(0.4720)    tensor(1.1983)  \n",
              "2     tensor(0.3761)    tensor(0.3688)    tensor(1.1805)  \n",
              "3     tensor(0.3847)    tensor(0.2543)    tensor(0.9367)  \n",
              "4     tensor(0.3769)    tensor(0.2498)    tensor(0.8978)  \n",
              "..               ...               ...               ...  \n",
              "89   tensor(-0.0144)   tensor(-0.0151)   tensor(-0.0698)  \n",
              "90   tensor(-0.0200)   tensor(-0.0453)   tensor(-0.0825)  \n",
              "91    tensor(0.0127)   tensor(-0.0422)   tensor(-0.0947)  \n",
              "92   tensor(-0.0498)   tensor(-0.0042)   tensor(-0.1092)  \n",
              "93   tensor(-0.0223)   tensor(-0.0433)   tensor(-0.1166)  \n",
              "\n",
              "[94 rows x 5 columns]"
            ],
            "text/html": [
              "\n",
              "  <div id=\"df-6087127f-9ebc-45cb-8953-3346fd7058b2\">\n",
              "    <div class=\"colab-df-container\">\n",
              "      <div>\n",
              "<style scoped>\n",
              "    .dataframe tbody tr th:only-of-type {\n",
              "        vertical-align: middle;\n",
              "    }\n",
              "\n",
              "    .dataframe tbody tr th {\n",
              "        vertical-align: top;\n",
              "    }\n",
              "\n",
              "    .dataframe thead th {\n",
              "        text-align: right;\n",
              "    }\n",
              "</style>\n",
              "<table border=\"1\" class=\"dataframe\">\n",
              "  <thead>\n",
              "    <tr style=\"text-align: right;\">\n",
              "      <th></th>\n",
              "      <th>text</th>\n",
              "      <th>similarity_score1</th>\n",
              "      <th>similarity_score2</th>\n",
              "      <th>similarity_score3</th>\n",
              "      <th>accumulated_score</th>\n",
              "    </tr>\n",
              "  </thead>\n",
              "  <tbody>\n",
              "    <tr>\n",
              "      <th>0</th>\n",
              "      <td>\\n二、 水下噪音監測 \\n水下噪音監測之目的係為確認打樁期\\n間之水下噪音值是否超出�值...</td>\n",
              "      <td>tensor(0.3657)</td>\n",
              "      <td>tensor(0.5341)</td>\n",
              "      <td>tensor(0.2998)</td>\n",
              "      <td>tensor(1.1996)</td>\n",
              "    </tr>\n",
              "    <tr>\n",
              "      <th>1</th>\n",
              "      <td>\\n��</td>\n",
              "      <td>tensor(0.4494)</td>\n",
              "      <td>tensor(0.2770)</td>\n",
              "      <td>tensor(0.4720)</td>\n",
              "      <td>tensor(1.1983)</td>\n",
              "    </tr>\n",
              "    <tr>\n",
              "      <th>2</th>\n",
              "      <td>\\n－ \\n－ \\n(2)依據噪音振動模擬\\n結果顯示，陸上施\\n工及風機營運後之\\n全頻...</td>\n",
              "      <td>tensor(0.4357)</td>\n",
              "      <td>tensor(0.3761)</td>\n",
              "      <td>tensor(0.3688)</td>\n",
              "      <td>tensor(1.1805)</td>\n",
              "    </tr>\n",
              "    <tr>\n",
              "      <th>3</th>\n",
              "      <td>\\n3.開發行為屬點狀開\\n發 ， 無 大 面 積 施\\n工，環境影響說明\\n書中已針對施...</td>\n",
              "      <td>tensor(0.2976)</td>\n",
              "      <td>tensor(0.3847)</td>\n",
              "      <td>tensor(0.2543)</td>\n",
              "      <td>tensor(0.9367)</td>\n",
              "    </tr>\n",
              "    <tr>\n",
              "      <th>4</th>\n",
              "      <td>\\n8.1.1 \\n8-1 \\n(二)施工期間於距離打樁\\n位置外750公尺處選擇\\n合理...</td>\n",
              "      <td>tensor(0.2711)</td>\n",
              "      <td>tensor(0.3769)</td>\n",
              "      <td>tensor(0.2498)</td>\n",
              "      <td>tensor(0.8978)</td>\n",
              "    </tr>\n",
              "    <tr>\n",
              "      <th>...</th>\n",
              "      <td>...</td>\n",
              "      <td>...</td>\n",
              "      <td>...</td>\n",
              "      <td>...</td>\n",
              "      <td>...</td>\n",
              "    </tr>\n",
              "    <tr>\n",
              "      <th>89</th>\n",
              "      <td>\\n回饋計畫」有關內容納入附錄十八，說明\\n如下： \\n目前本計畫已與彰化縣政府達成初步共...</td>\n",
              "      <td>tensor(-0.0404)</td>\n",
              "      <td>tensor(-0.0144)</td>\n",
              "      <td>tensor(-0.0151)</td>\n",
              "      <td>tensor(-0.0698)</td>\n",
              "    </tr>\n",
              "    <tr>\n",
              "      <th>90</th>\n",
              "      <td>\\n(二) 黃金標準 (Gold Standard)：黃金\\n標準為由世界自然基金會和其他...</td>\n",
              "      <td>tensor(-0.0172)</td>\n",
              "      <td>tensor(-0.0200)</td>\n",
              "      <td>tensor(-0.0453)</td>\n",
              "      <td>tensor(-0.0825)</td>\n",
              "    </tr>\n",
              "    <tr>\n",
              "      <th>91</th>\n",
              "      <td>\\n二、 在地���花�原則上也會配合辦理\\n</td>\n",
              "      <td>tensor(-0.0652)</td>\n",
              "      <td>tensor(0.0127)</td>\n",
              "      <td>tensor(-0.0422)</td>\n",
              "      <td>tensor(-0.0947)</td>\n",
              "    </tr>\n",
              "    <tr>\n",
              "      <th>92</th>\n",
              "      <td>\\n(五) 邀請丹麥頂尖大學來台在國內及\\n彰化地區大學開課</td>\n",
              "      <td>tensor(-0.0552)</td>\n",
              "      <td>tensor(-0.0498)</td>\n",
              "      <td>tensor(-0.0042)</td>\n",
              "      <td>tensor(-0.1092)</td>\n",
              "    </tr>\n",
              "    <tr>\n",
              "      <th>93</th>\n",
              "      <td>\\n三、 在地人才培訓 \\n(一) 提供綠能全額獎學金(8名)保留彰\\n化子�名額，預計1...</td>\n",
              "      <td>tensor(-0.0509)</td>\n",
              "      <td>tensor(-0.0223)</td>\n",
              "      <td>tensor(-0.0433)</td>\n",
              "      <td>tensor(-0.1166)</td>\n",
              "    </tr>\n",
              "  </tbody>\n",
              "</table>\n",
              "<p>94 rows × 5 columns</p>\n",
              "</div>\n",
              "      <button class=\"colab-df-convert\" onclick=\"convertToInteractive('df-6087127f-9ebc-45cb-8953-3346fd7058b2')\"\n",
              "              title=\"Convert this dataframe to an interactive table.\"\n",
              "              style=\"display:none;\">\n",
              "        \n",
              "  <svg xmlns=\"http://www.w3.org/2000/svg\" height=\"24px\"viewBox=\"0 0 24 24\"\n",
              "       width=\"24px\">\n",
              "    <path d=\"M0 0h24v24H0V0z\" fill=\"none\"/>\n",
              "    <path d=\"M18.56 5.44l.94 2.06.94-2.06 2.06-.94-2.06-.94-.94-2.06-.94 2.06-2.06.94zm-11 1L8.5 8.5l.94-2.06 2.06-.94-2.06-.94L8.5 2.5l-.94 2.06-2.06.94zm10 10l.94 2.06.94-2.06 2.06-.94-2.06-.94-.94-2.06-.94 2.06-2.06.94z\"/><path d=\"M17.41 7.96l-1.37-1.37c-.4-.4-.92-.59-1.43-.59-.52 0-1.04.2-1.43.59L10.3 9.45l-7.72 7.72c-.78.78-.78 2.05 0 2.83L4 21.41c.39.39.9.59 1.41.59.51 0 1.02-.2 1.41-.59l7.78-7.78 2.81-2.81c.8-.78.8-2.07 0-2.86zM5.41 20L4 18.59l7.72-7.72 1.47 1.35L5.41 20z\"/>\n",
              "  </svg>\n",
              "      </button>\n",
              "      \n",
              "  <style>\n",
              "    .colab-df-container {\n",
              "      display:flex;\n",
              "      flex-wrap:wrap;\n",
              "      gap: 12px;\n",
              "    }\n",
              "\n",
              "    .colab-df-convert {\n",
              "      background-color: #E8F0FE;\n",
              "      border: none;\n",
              "      border-radius: 50%;\n",
              "      cursor: pointer;\n",
              "      display: none;\n",
              "      fill: #1967D2;\n",
              "      height: 32px;\n",
              "      padding: 0 0 0 0;\n",
              "      width: 32px;\n",
              "    }\n",
              "\n",
              "    .colab-df-convert:hover {\n",
              "      background-color: #E2EBFA;\n",
              "      box-shadow: 0px 1px 2px rgba(60, 64, 67, 0.3), 0px 1px 3px 1px rgba(60, 64, 67, 0.15);\n",
              "      fill: #174EA6;\n",
              "    }\n",
              "\n",
              "    [theme=dark] .colab-df-convert {\n",
              "      background-color: #3B4455;\n",
              "      fill: #D2E3FC;\n",
              "    }\n",
              "\n",
              "    [theme=dark] .colab-df-convert:hover {\n",
              "      background-color: #434B5C;\n",
              "      box-shadow: 0px 1px 3px 1px rgba(0, 0, 0, 0.15);\n",
              "      filter: drop-shadow(0px 1px 2px rgba(0, 0, 0, 0.3));\n",
              "      fill: #FFFFFF;\n",
              "    }\n",
              "  </style>\n",
              "\n",
              "      <script>\n",
              "        const buttonEl =\n",
              "          document.querySelector('#df-6087127f-9ebc-45cb-8953-3346fd7058b2 button.colab-df-convert');\n",
              "        buttonEl.style.display =\n",
              "          google.colab.kernel.accessAllowed ? 'block' : 'none';\n",
              "\n",
              "        async function convertToInteractive(key) {\n",
              "          const element = document.querySelector('#df-6087127f-9ebc-45cb-8953-3346fd7058b2');\n",
              "          const dataTable =\n",
              "            await google.colab.kernel.invokeFunction('convertToInteractive',\n",
              "                                                     [key], {});\n",
              "          if (!dataTable) return;\n",
              "\n",
              "          const docLinkHtml = 'Like what you see? Visit the ' +\n",
              "            '<a target=\"_blank\" href=https://colab.research.google.com/notebooks/data_table.ipynb>data table notebook</a>'\n",
              "            + ' to learn more about interactive tables.';\n",
              "          element.innerHTML = '';\n",
              "          dataTable['output_type'] = 'display_data';\n",
              "          await google.colab.output.renderOutput(dataTable, element);\n",
              "          const docLink = document.createElement('div');\n",
              "          docLink.innerHTML = docLinkHtml;\n",
              "          element.appendChild(docLink);\n",
              "        }\n",
              "      </script>\n",
              "    </div>\n",
              "  </div>\n",
              "  "
            ]
          },
          "metadata": {},
          "execution_count": 38
        }
      ]
    },
    {
      "cell_type": "code",
      "source": [],
      "metadata": {
        "id": "WCjw1t2Jom-S"
      },
      "execution_count": null,
      "outputs": []
    },
    {
      "cell_type": "code",
      "source": [],
      "metadata": {
        "id": "_HFPZZylkGFs"
      },
      "execution_count": null,
      "outputs": []
    }
  ]
}