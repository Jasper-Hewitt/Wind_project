{
  "nbformat": 4,
  "nbformat_minor": 0,
  "metadata": {
    "colab": {
      "provenance": [],
      "authorship_tag": "ABX9TyMONwzBwF96FOo6HHUZ5k+y",
      "include_colab_link": true
    },
    "kernelspec": {
      "name": "python3",
      "display_name": "Python 3"
    },
    "language_info": {
      "name": "python"
    },
    "accelerator": "GPU",
    "gpuClass": "standard"
  },
  "cells": [
    {
      "cell_type": "markdown",
      "metadata": {
        "id": "view-in-github",
        "colab_type": "text"
      },
      "source": [
        "<a href=\"https://colab.research.google.com/github/Jasper-Hewitt/Wind_project/blob/main/low_tensor_test.ipynb\" target=\"_parent\"><img src=\"https://colab.research.google.com/assets/colab-badge.svg\" alt=\"Open In Colab\"/></a>"
      ]
    },
    {
      "cell_type": "markdown",
      "source": [
        "## get and split data"
      ],
      "metadata": {
        "id": "k1Gww5c-IPL2"
      }
    },
    {
      "cell_type": "code",
      "source": [
        "#todo\n",
        "#fix the max number of tokens, it's actually very little\n",
        "#補充 answer with the rest of the rows\n",
        "#make a better while loop that creates different dataframes based on word count, code now a bit ugly\n",
        "!pip install fitz\n",
        "!pip install static\n",
        "!pip install frontend\n",
        "!pip install pymupdf --upgrade\n",
        "!pip install openai"
      ],
      "metadata": {
        "id": "Dul8i6-4aEx9"
      },
      "execution_count": null,
      "outputs": []
    },
    {
      "cell_type": "code",
      "source": [
        "import os\n",
        "import openai\n",
        "import json\n",
        "\n",
        "openai.api_key = '' #delete when uploading "
      ],
      "metadata": {
        "id": "-gFuTUhP3S3a"
      },
      "execution_count": 2,
      "outputs": []
    },
    {
      "cell_type": "code",
      "source": [
        "#manually download the data from github and upload it in this notebook\n",
        "import fitz\n",
        "\n",
        "doc = fitz.open(\"dragged_15_37.pdf\")\n",
        "\n",
        "for page in doc:\n",
        "    text = page.get_text(\"text\")\n",
        "    with open(\"output3.txt\", \"a\") as f:\n",
        "        f.write(text)"
      ],
      "metadata": {
        "id": "5xCYdNT2aDkI"
      },
      "execution_count": 3,
      "outputs": []
    },
    {
      "cell_type": "code",
      "source": [
        "with open('output3.txt', 'r') as file:\n",
        "    # Read the contents of the file\n",
        "    contents = file.read()\n",
        "    print(contents)"
      ],
      "metadata": {
        "id": "kjHTNb_qccQB"
      },
      "execution_count": null,
      "outputs": []
    },
    {
      "cell_type": "code",
      "source": [
        "import re\n",
        "pattern = \"。\" #。|:\n",
        "split_contents = re.split(pattern, contents)\n",
        "# print(sentences)"
      ],
      "metadata": {
        "id": "4BNGCdG62dme"
      },
      "execution_count": 5,
      "outputs": []
    },
    {
      "cell_type": "code",
      "source": [
        "split_contents"
      ],
      "metadata": {
        "id": "LyUTKKrK5g-Q"
      },
      "execution_count": null,
      "outputs": []
    },
    {
      "cell_type": "code",
      "source": [
        "len(split_contents)"
      ],
      "metadata": {
        "id": "nRFrSOXh2fNO",
        "outputId": "aba3b396-ca9a-41d5-9e83-ee115c1a52e4",
        "colab": {
          "base_uri": "https://localhost:8080/"
        }
      },
      "execution_count": 7,
      "outputs": [
        {
          "output_type": "execute_result",
          "data": {
            "text/plain": [
              "218"
            ]
          },
          "metadata": {},
          "execution_count": 7
        }
      ]
    },
    {
      "cell_type": "markdown",
      "source": [
        "## sentiment search"
      ],
      "metadata": {
        "id": "GWmEQtqmWq50"
      }
    },
    {
      "cell_type": "code",
      "source": [
        "#sentiment search\n",
        "!pip install sentence_transformers\n",
        "\n",
        "from sentence_transformers import SentenceTransformer, util\n",
        "import torch\n",
        "\n",
        "embedder = SentenceTransformer(\"sentence-transformers/paraphrase-multilingual-MiniLM-L12-v2\")\n",
        "corpus = split_contents\n",
        "corpus_embeddings = embedder.encode(corpus, convert_to_tensor=True)\n",
        "\n",
        "# add queries, between 3 and 5\n",
        "queries = ['對於鯨豚保育的重點是什麼？']\n",
        "\n",
        "# Find the closest X sentences of the corpus for each query sentence based on cosine similarity\n",
        "top_k = min(68, len(corpus))\n",
        "\n",
        "for query in queries:\n",
        "    query_embedding = embedder.encode(query, convert_to_tensor=True)\n",
        "\n",
        "    cos_scores = util.cos_sim(query_embedding, corpus_embeddings)[0]\n",
        "    top_results = torch.topk(cos_scores, k=top_k)\n",
        "\n",
        "    print(\"\\n\\n======================\\n\\n\")\n",
        "    print(\"Query:\", query)\n",
        "    print(\"\\nTop X most similar sentences in corpus:\")\n",
        "\n",
        "    for score, idx in zip(top_results[0], top_results[1]):\n",
        "        print(\"Sentence: \", corpus[idx], \" Original Sequence: \", idx+1, \" (Score: {:.4f})\".format(score))"
      ],
      "metadata": {
        "id": "CoAGVbBppXjC"
      },
      "execution_count": null,
      "outputs": []
    },
    {
      "cell_type": "code",
      "source": [
        "len(queries)"
      ],
      "metadata": {
        "colab": {
          "base_uri": "https://localhost:8080/"
        },
        "id": "MNM4zPUVfzTm",
        "outputId": "437cdebc-ccac-4798-f3fd-a3280eb3582f"
      },
      "execution_count": 9,
      "outputs": [
        {
          "output_type": "execute_result",
          "data": {
            "text/plain": [
              "1"
            ]
          },
          "metadata": {},
          "execution_count": 9
        }
      ]
    },
    {
      "cell_type": "code",
      "source": [
        "sentence_scores = {sentence: {query: 0 for query in queries} for sentence in corpus}\n",
        "\n",
        "for query in queries:\n",
        "    query_embedding = embedder.encode(query, convert_to_tensor=True)\n",
        "    cos_scores = util.cos_sim(query_embedding, corpus_embeddings)[0]\n",
        "    top_results = torch.topk(cos_scores, k=len(corpus))\n",
        "    for score, idx in zip(top_results[0], top_results[1]):\n",
        "        sentence = corpus[idx]\n",
        "        sentence_scores[sentence][query] = score"
      ],
      "metadata": {
        "id": "3VkUraU4xILS"
      },
      "execution_count": 74,
      "outputs": []
    },
    {
      "cell_type": "code",
      "source": [
        "len(sentence_scores)"
      ],
      "metadata": {
        "colab": {
          "base_uri": "https://localhost:8080/"
        },
        "id": "0fmk_VLzxP9k",
        "outputId": "7c69aade-9218-48b1-9525-ac84360b6f35"
      },
      "execution_count": 75,
      "outputs": [
        {
          "output_type": "execute_result",
          "data": {
            "text/plain": [
              "198"
            ]
          },
          "metadata": {},
          "execution_count": 75
        }
      ]
    },
    {
      "cell_type": "code",
      "source": [],
      "metadata": {
        "id": "3z5Sil7Hdnkc"
      },
      "execution_count": 75,
      "outputs": []
    },
    {
      "cell_type": "code",
      "source": [
        "#adjust to also allow for queries outside the range of 1-5\n",
        "import pandas as pd\n",
        "\n",
        "if len(queries)==1:\n",
        "  results = []\n",
        "  for i, (sentence, scores) in enumerate(sentence_scores.items()):\n",
        "      results.append((sentence, i+1, scores[queries[0]]))\n",
        "\n",
        "elif len(queries)==2:\n",
        "  results = []\n",
        "  for i, (sentence, scores) in enumerate(sentence_scores.items()):\n",
        "      results.append((sentence, i+1, scores[queries[0]], scores[queries[1]], scores[queries[0]]+scores[queries[1]]))\n",
        "\n",
        "elif len(queries)==3:\n",
        "  results = []\n",
        "  for i, (sentence, scores) in enumerate(sentence_scores.items()):\n",
        "      results.append((sentence, i+1, scores[queries[0]], scores[queries[1]], scores[queries[2]], scores[queries[0]]+scores[queries[1]]+scores[queries[2]]))\n",
        "elif len(queries)==4:\n",
        "  results = []\n",
        "  for i, (sentence, scores) in enumerate(sentence_scores.items()):\n",
        "      results.append((sentence, i+1, scores[queries[0]], scores[queries[1]], scores[queries[2]], scores[queries[3]], scores[queries[0]]+scores[queries[1]]+scores[queries[2]]+scores[queries[3]]))\n",
        "elif len(queries)==5:\n",
        "  results = []\n",
        "  for i, (sentence, scores) in enumerate(sentence_scores.items()):\n",
        "      results.append((sentence, i+1, scores[queries[0]], scores[queries[1]], scores[queries[2]], scores[queries[3]], scores[queries[4]], scores[queries[0]]+scores[queries[1]]+scores[queries[2]]+scores[queries[3]]+scores[queries[4]])) \n",
        "\n",
        "#________________________________________________________________________________________________________________________________________________________________________________________________________\n",
        "\n",
        "if len(queries) == 1:\n",
        "    df = pd.DataFrame(results, columns=['text', 'original_sequence', 'accumulated_score'])\n",
        "    df = df.sort_values(by='accumulated_score', ascending=False)\n",
        "\n",
        "elif len(queries) == 2:\n",
        "    df = pd.DataFrame(results, columns=['text', 'original_sequence', 'similarity_score1', 'similarity_score2', 'accumulated_score'])\n",
        "    df = df.sort_values(by='accumulated_score', ascending=False)\n",
        "\n",
        "elif len(queries) == 3:\n",
        "    df = pd.DataFrame(results, columns=['text', 'original_sequence', 'similarity_score1', 'similarity_score2', 'similarity_score3', 'accumulated_score'])\n",
        "    df = df.sort_values(by='accumulated_score', ascending=False)\n",
        "elif len(queries) == 4:\n",
        "    df = pd.DataFrame(results, columns=['text', 'original_sequence', 'similarity_score1', 'similarity_score2', 'similarity_score3', 'similarity_score4', 'accumulated_score'])\n",
        "    df = df.sort_values(by='accumulated_score', ascending=False)\n",
        "elif len(queries) == 5:\n",
        "    df = pd.DataFrame(results, columns=['text', 'original_sequence', 'similarity_score1', 'similarity_score2', 'similarity_score3', 'similarity_score4', 'similarity_score5', 'accumulated_score'])\n",
        "    df = df.sort_values(by='accumulated_score', ascending=False)"
      ],
      "metadata": {
        "id": "izYXXMVudn0R"
      },
      "execution_count": 76,
      "outputs": []
    },
    {
      "cell_type": "code",
      "source": [
        "df"
      ],
      "metadata": {
        "colab": {
          "base_uri": "https://localhost:8080/",
          "height": 641
        },
        "id": "UkK1QN6efsT2",
        "outputId": "f8ebd3a4-abdd-48b5-e25e-db4698f34d8a"
      },
      "execution_count": 77,
      "outputs": [
        {
          "output_type": "execute_result",
          "data": {
            "text/plain": [
              "                                                  text  original_sequence  \\\n",
              "17   本潛力場址區域不包含漁港、濕地、保護礁區、漁\\n業資源保育區、重要野鳥棲地、中華白海豚野生動...                 18   \n",
              "180  然開發同時為兼顧再生能源發展及整體海岸管\\n理，已考量整體生態保育、景觀、環境等因素，使海\\...                181   \n",
              "156                                」因此本計畫位於彰化縣\\n海域管轄範圍                157   \n",
              "132   \\np.6-9 \\n十、全國區域計畫 \\n… \\n(四)與開發行為之關聯性 \\n本計畫風機...                133   \n",
              "123   \\n \\n \\n17 \\n第二期計畫」「中能離岸風力發電開發計畫」「王功與永興風\\n力發電...                124   \n",
              "..                                                 ...                ...   \n",
              "59    \\np.5-6 \\n東西向風機間距約介於 533~779 公尺，南北向風機間距約介\\n於 ...                 60   \n",
              "58    \\n \\n \\n8 \\n25.0(\\nMSL) \\n25.0(\\nMSL)\\n總高/ (葉...                 59   \n",
              "56    \\np.5-6 \\n表 5.2.1-1 風機設計包絡表 \\n元件 \\n最小風機 \\n最大風...                 57   \n",
              "3    當選用單機裝置容量最小(4MW)\\n的風機時，將設置 140 部風機；當選用單機裝置容量最大...                  4   \n",
              "5    當選用單機裝置容量最小(8MW)的風\\n機時，將設置 71 部風機；當選用單機裝置容量最大(...                  6   \n",
              "\n",
              "                    accumulated_score  \n",
              "17    tensor(0.5316, device='cuda:0')  \n",
              "180   tensor(0.4650, device='cuda:0')  \n",
              "156   tensor(0.3782, device='cuda:0')  \n",
              "132   tensor(0.3517, device='cuda:0')  \n",
              "123   tensor(0.3516, device='cuda:0')  \n",
              "..                                ...  \n",
              "59   tensor(-0.0496, device='cuda:0')  \n",
              "58   tensor(-0.0839, device='cuda:0')  \n",
              "56   tensor(-0.1129, device='cuda:0')  \n",
              "3    tensor(-0.1296, device='cuda:0')  \n",
              "5    tensor(-0.1403, device='cuda:0')  \n",
              "\n",
              "[198 rows x 3 columns]"
            ],
            "text/html": [
              "\n",
              "  <div id=\"df-cc338cf2-6482-4db0-9a7c-9415752759fc\">\n",
              "    <div class=\"colab-df-container\">\n",
              "      <div>\n",
              "<style scoped>\n",
              "    .dataframe tbody tr th:only-of-type {\n",
              "        vertical-align: middle;\n",
              "    }\n",
              "\n",
              "    .dataframe tbody tr th {\n",
              "        vertical-align: top;\n",
              "    }\n",
              "\n",
              "    .dataframe thead th {\n",
              "        text-align: right;\n",
              "    }\n",
              "</style>\n",
              "<table border=\"1\" class=\"dataframe\">\n",
              "  <thead>\n",
              "    <tr style=\"text-align: right;\">\n",
              "      <th></th>\n",
              "      <th>text</th>\n",
              "      <th>original_sequence</th>\n",
              "      <th>accumulated_score</th>\n",
              "    </tr>\n",
              "  </thead>\n",
              "  <tbody>\n",
              "    <tr>\n",
              "      <th>17</th>\n",
              "      <td>本潛力場址區域不包含漁港、濕地、保護礁區、漁\\n業資源保育區、重要野鳥棲地、中華白海豚野生動...</td>\n",
              "      <td>18</td>\n",
              "      <td>tensor(0.5316, device='cuda:0')</td>\n",
              "    </tr>\n",
              "    <tr>\n",
              "      <th>180</th>\n",
              "      <td>然開發同時為兼顧再生能源發展及整體海岸管\\n理，已考量整體生態保育、景觀、環境等因素，使海\\...</td>\n",
              "      <td>181</td>\n",
              "      <td>tensor(0.4650, device='cuda:0')</td>\n",
              "    </tr>\n",
              "    <tr>\n",
              "      <th>156</th>\n",
              "      <td>」因此本計畫位於彰化縣\\n海域管轄範圍</td>\n",
              "      <td>157</td>\n",
              "      <td>tensor(0.3782, device='cuda:0')</td>\n",
              "    </tr>\n",
              "    <tr>\n",
              "      <th>132</th>\n",
              "      <td>\\np.6-9 \\n十、全國區域計畫 \\n… \\n(四)與開發行為之關聯性 \\n本計畫風機...</td>\n",
              "      <td>133</td>\n",
              "      <td>tensor(0.3517, device='cuda:0')</td>\n",
              "    </tr>\n",
              "    <tr>\n",
              "      <th>123</th>\n",
              "      <td>\\n \\n \\n17 \\n第二期計畫」「中能離岸風力發電開發計畫」「王功與永興風\\n力發電...</td>\n",
              "      <td>124</td>\n",
              "      <td>tensor(0.3516, device='cuda:0')</td>\n",
              "    </tr>\n",
              "    <tr>\n",
              "      <th>...</th>\n",
              "      <td>...</td>\n",
              "      <td>...</td>\n",
              "      <td>...</td>\n",
              "    </tr>\n",
              "    <tr>\n",
              "      <th>59</th>\n",
              "      <td>\\np.5-6 \\n東西向風機間距約介於 533~779 公尺，南北向風機間距約介\\n於 ...</td>\n",
              "      <td>60</td>\n",
              "      <td>tensor(-0.0496, device='cuda:0')</td>\n",
              "    </tr>\n",
              "    <tr>\n",
              "      <th>58</th>\n",
              "      <td>\\n \\n \\n8 \\n25.0(\\nMSL) \\n25.0(\\nMSL)\\n總高/ (葉...</td>\n",
              "      <td>59</td>\n",
              "      <td>tensor(-0.0839, device='cuda:0')</td>\n",
              "    </tr>\n",
              "    <tr>\n",
              "      <th>56</th>\n",
              "      <td>\\np.5-6 \\n表 5.2.1-1 風機設計包絡表 \\n元件 \\n最小風機 \\n最大風...</td>\n",
              "      <td>57</td>\n",
              "      <td>tensor(-0.1129, device='cuda:0')</td>\n",
              "    </tr>\n",
              "    <tr>\n",
              "      <th>3</th>\n",
              "      <td>當選用單機裝置容量最小(4MW)\\n的風機時，將設置 140 部風機；當選用單機裝置容量最大...</td>\n",
              "      <td>4</td>\n",
              "      <td>tensor(-0.1296, device='cuda:0')</td>\n",
              "    </tr>\n",
              "    <tr>\n",
              "      <th>5</th>\n",
              "      <td>當選用單機裝置容量最小(8MW)的風\\n機時，將設置 71 部風機；當選用單機裝置容量最大(...</td>\n",
              "      <td>6</td>\n",
              "      <td>tensor(-0.1403, device='cuda:0')</td>\n",
              "    </tr>\n",
              "  </tbody>\n",
              "</table>\n",
              "<p>198 rows × 3 columns</p>\n",
              "</div>\n",
              "      <button class=\"colab-df-convert\" onclick=\"convertToInteractive('df-cc338cf2-6482-4db0-9a7c-9415752759fc')\"\n",
              "              title=\"Convert this dataframe to an interactive table.\"\n",
              "              style=\"display:none;\">\n",
              "        \n",
              "  <svg xmlns=\"http://www.w3.org/2000/svg\" height=\"24px\"viewBox=\"0 0 24 24\"\n",
              "       width=\"24px\">\n",
              "    <path d=\"M0 0h24v24H0V0z\" fill=\"none\"/>\n",
              "    <path d=\"M18.56 5.44l.94 2.06.94-2.06 2.06-.94-2.06-.94-.94-2.06-.94 2.06-2.06.94zm-11 1L8.5 8.5l.94-2.06 2.06-.94-2.06-.94L8.5 2.5l-.94 2.06-2.06.94zm10 10l.94 2.06.94-2.06 2.06-.94-2.06-.94-.94-2.06-.94 2.06-2.06.94z\"/><path d=\"M17.41 7.96l-1.37-1.37c-.4-.4-.92-.59-1.43-.59-.52 0-1.04.2-1.43.59L10.3 9.45l-7.72 7.72c-.78.78-.78 2.05 0 2.83L4 21.41c.39.39.9.59 1.41.59.51 0 1.02-.2 1.41-.59l7.78-7.78 2.81-2.81c.8-.78.8-2.07 0-2.86zM5.41 20L4 18.59l7.72-7.72 1.47 1.35L5.41 20z\"/>\n",
              "  </svg>\n",
              "      </button>\n",
              "      \n",
              "  <style>\n",
              "    .colab-df-container {\n",
              "      display:flex;\n",
              "      flex-wrap:wrap;\n",
              "      gap: 12px;\n",
              "    }\n",
              "\n",
              "    .colab-df-convert {\n",
              "      background-color: #E8F0FE;\n",
              "      border: none;\n",
              "      border-radius: 50%;\n",
              "      cursor: pointer;\n",
              "      display: none;\n",
              "      fill: #1967D2;\n",
              "      height: 32px;\n",
              "      padding: 0 0 0 0;\n",
              "      width: 32px;\n",
              "    }\n",
              "\n",
              "    .colab-df-convert:hover {\n",
              "      background-color: #E2EBFA;\n",
              "      box-shadow: 0px 1px 2px rgba(60, 64, 67, 0.3), 0px 1px 3px 1px rgba(60, 64, 67, 0.15);\n",
              "      fill: #174EA6;\n",
              "    }\n",
              "\n",
              "    [theme=dark] .colab-df-convert {\n",
              "      background-color: #3B4455;\n",
              "      fill: #D2E3FC;\n",
              "    }\n",
              "\n",
              "    [theme=dark] .colab-df-convert:hover {\n",
              "      background-color: #434B5C;\n",
              "      box-shadow: 0px 1px 3px 1px rgba(0, 0, 0, 0.15);\n",
              "      filter: drop-shadow(0px 1px 2px rgba(0, 0, 0, 0.3));\n",
              "      fill: #FFFFFF;\n",
              "    }\n",
              "  </style>\n",
              "\n",
              "      <script>\n",
              "        const buttonEl =\n",
              "          document.querySelector('#df-cc338cf2-6482-4db0-9a7c-9415752759fc button.colab-df-convert');\n",
              "        buttonEl.style.display =\n",
              "          google.colab.kernel.accessAllowed ? 'block' : 'none';\n",
              "\n",
              "        async function convertToInteractive(key) {\n",
              "          const element = document.querySelector('#df-cc338cf2-6482-4db0-9a7c-9415752759fc');\n",
              "          const dataTable =\n",
              "            await google.colab.kernel.invokeFunction('convertToInteractive',\n",
              "                                                     [key], {});\n",
              "          if (!dataTable) return;\n",
              "\n",
              "          const docLinkHtml = 'Like what you see? Visit the ' +\n",
              "            '<a target=\"_blank\" href=https://colab.research.google.com/notebooks/data_table.ipynb>data table notebook</a>'\n",
              "            + ' to learn more about interactive tables.';\n",
              "          element.innerHTML = '';\n",
              "          dataTable['output_type'] = 'display_data';\n",
              "          await google.colab.output.renderOutput(dataTable, element);\n",
              "          const docLink = document.createElement('div');\n",
              "          docLink.innerHTML = docLinkHtml;\n",
              "          element.appendChild(docLink);\n",
              "        }\n",
              "      </script>\n",
              "    </div>\n",
              "  </div>\n",
              "  "
            ]
          },
          "metadata": {},
          "execution_count": 77
        }
      ]
    },
    {
      "cell_type": "code",
      "source": [
        "noise_pattern= '遵照辦理'\n",
        "noise_pattern1='章節'\n",
        "noise_pattern2='��'\n",
        "noise_pattern3='�'\n",
        "noise_pattern4='修訂處'\n",
        "noise_pattern5='頁次'\n",
        "\n",
        "df['text'] = df['text'].replace(noise_pattern,'',regex=True)\n",
        "df['text'] = df['text'].replace(noise_pattern1,'',regex=True)\n",
        "df['text'] = df['text'].replace(noise_pattern2,'',regex=True)\n",
        "df['text'] = df['text'].replace(noise_pattern3,'',regex=True)\n",
        "df['text'] = df['text'].replace(noise_pattern4,'',regex=True)\n",
        "df['text'] = df['text'].replace(noise_pattern5,'',regex=True)"
      ],
      "metadata": {
        "id": "i92KcHm_3PHF"
      },
      "execution_count": 78,
      "outputs": []
    },
    {
      "cell_type": "code",
      "source": [
        "#delete empty rows\n",
        "df = df[df['text'].str.len()>6]   \n",
        "#the line below no longer makes sense lol. \n",
        "# df = df[['text', 'original_sequence', 'similarity_score1', 'similarity_score2', 'similarity_score3', 'accumulated_score']]\n",
        "df = df[['text', 'original_sequence', 'accumulated_score']]\n",
        "df = df.reset_index(drop=True)\n",
        "df"
      ],
      "metadata": {
        "id": "wfV8ZcEi2SZ8",
        "outputId": "a2d492e8-2986-4057-c646-ab9742e26699",
        "colab": {
          "base_uri": "https://localhost:8080/",
          "height": 641
        }
      },
      "execution_count": 79,
      "outputs": [
        {
          "output_type": "execute_result",
          "data": {
            "text/plain": [
              "                                                  text  original_sequence  \\\n",
              "0    本潛力場址區域不包含漁港、濕地、保護礁區、漁\\n業資源保育區、重要野鳥棲地、中華白海豚野生動...                 18   \n",
              "1    然開發同時為兼顧再生能源發展及整體海岸管\\n理，已考量整體生態保育、景觀、環境等因素，使海\\...                181   \n",
              "2                                  」因此本計畫位於彰化縣\\n海域管轄範圍                157   \n",
              "3     \\np.6-9 \\n十、全國區域計畫 \\n… \\n(四)與開發行為之關聯性 \\n本計畫風機...                133   \n",
              "4     \\n \\n \\n17 \\n第二期計畫」「中能離岸風力發電開發計畫」「王功與永興風\\n力發電...                124   \n",
              "..                                                 ...                ...   \n",
              "192   \\np.5-6 \\n東西向風機間距約介於 533~779 公尺，南北向風機間距約介\\n於 ...                 60   \n",
              "193   \\n \\n \\n8 \\n25.0(\\nMSL) \\n25.0(\\nMSL)\\n總高/ (葉...                 59   \n",
              "194   \\np.5-6 \\n表 5.2.1-1 風機設計包絡表 \\n元件 \\n最小風機 \\n最大風...                 57   \n",
              "195  當選用單機裝置容量最小(4MW)\\n的風機時，將設置 140 部風機；當選用單機裝置容量最大...                  4   \n",
              "196  當選用單機裝置容量最小(8MW)的風\\n機時，將設置 71 部風機；當選用單機裝置容量最大(...                  6   \n",
              "\n",
              "                    accumulated_score  \n",
              "0     tensor(0.5316, device='cuda:0')  \n",
              "1     tensor(0.4650, device='cuda:0')  \n",
              "2     tensor(0.3782, device='cuda:0')  \n",
              "3     tensor(0.3517, device='cuda:0')  \n",
              "4     tensor(0.3516, device='cuda:0')  \n",
              "..                                ...  \n",
              "192  tensor(-0.0496, device='cuda:0')  \n",
              "193  tensor(-0.0839, device='cuda:0')  \n",
              "194  tensor(-0.1129, device='cuda:0')  \n",
              "195  tensor(-0.1296, device='cuda:0')  \n",
              "196  tensor(-0.1403, device='cuda:0')  \n",
              "\n",
              "[197 rows x 3 columns]"
            ],
            "text/html": [
              "\n",
              "  <div id=\"df-009f5025-fc58-4708-82cd-8e3858b5c6c8\">\n",
              "    <div class=\"colab-df-container\">\n",
              "      <div>\n",
              "<style scoped>\n",
              "    .dataframe tbody tr th:only-of-type {\n",
              "        vertical-align: middle;\n",
              "    }\n",
              "\n",
              "    .dataframe tbody tr th {\n",
              "        vertical-align: top;\n",
              "    }\n",
              "\n",
              "    .dataframe thead th {\n",
              "        text-align: right;\n",
              "    }\n",
              "</style>\n",
              "<table border=\"1\" class=\"dataframe\">\n",
              "  <thead>\n",
              "    <tr style=\"text-align: right;\">\n",
              "      <th></th>\n",
              "      <th>text</th>\n",
              "      <th>original_sequence</th>\n",
              "      <th>accumulated_score</th>\n",
              "    </tr>\n",
              "  </thead>\n",
              "  <tbody>\n",
              "    <tr>\n",
              "      <th>0</th>\n",
              "      <td>本潛力場址區域不包含漁港、濕地、保護礁區、漁\\n業資源保育區、重要野鳥棲地、中華白海豚野生動...</td>\n",
              "      <td>18</td>\n",
              "      <td>tensor(0.5316, device='cuda:0')</td>\n",
              "    </tr>\n",
              "    <tr>\n",
              "      <th>1</th>\n",
              "      <td>然開發同時為兼顧再生能源發展及整體海岸管\\n理，已考量整體生態保育、景觀、環境等因素，使海\\...</td>\n",
              "      <td>181</td>\n",
              "      <td>tensor(0.4650, device='cuda:0')</td>\n",
              "    </tr>\n",
              "    <tr>\n",
              "      <th>2</th>\n",
              "      <td>」因此本計畫位於彰化縣\\n海域管轄範圍</td>\n",
              "      <td>157</td>\n",
              "      <td>tensor(0.3782, device='cuda:0')</td>\n",
              "    </tr>\n",
              "    <tr>\n",
              "      <th>3</th>\n",
              "      <td>\\np.6-9 \\n十、全國區域計畫 \\n… \\n(四)與開發行為之關聯性 \\n本計畫風機...</td>\n",
              "      <td>133</td>\n",
              "      <td>tensor(0.3517, device='cuda:0')</td>\n",
              "    </tr>\n",
              "    <tr>\n",
              "      <th>4</th>\n",
              "      <td>\\n \\n \\n17 \\n第二期計畫」「中能離岸風力發電開發計畫」「王功與永興風\\n力發電...</td>\n",
              "      <td>124</td>\n",
              "      <td>tensor(0.3516, device='cuda:0')</td>\n",
              "    </tr>\n",
              "    <tr>\n",
              "      <th>...</th>\n",
              "      <td>...</td>\n",
              "      <td>...</td>\n",
              "      <td>...</td>\n",
              "    </tr>\n",
              "    <tr>\n",
              "      <th>192</th>\n",
              "      <td>\\np.5-6 \\n東西向風機間距約介於 533~779 公尺，南北向風機間距約介\\n於 ...</td>\n",
              "      <td>60</td>\n",
              "      <td>tensor(-0.0496, device='cuda:0')</td>\n",
              "    </tr>\n",
              "    <tr>\n",
              "      <th>193</th>\n",
              "      <td>\\n \\n \\n8 \\n25.0(\\nMSL) \\n25.0(\\nMSL)\\n總高/ (葉...</td>\n",
              "      <td>59</td>\n",
              "      <td>tensor(-0.0839, device='cuda:0')</td>\n",
              "    </tr>\n",
              "    <tr>\n",
              "      <th>194</th>\n",
              "      <td>\\np.5-6 \\n表 5.2.1-1 風機設計包絡表 \\n元件 \\n最小風機 \\n最大風...</td>\n",
              "      <td>57</td>\n",
              "      <td>tensor(-0.1129, device='cuda:0')</td>\n",
              "    </tr>\n",
              "    <tr>\n",
              "      <th>195</th>\n",
              "      <td>當選用單機裝置容量最小(4MW)\\n的風機時，將設置 140 部風機；當選用單機裝置容量最大...</td>\n",
              "      <td>4</td>\n",
              "      <td>tensor(-0.1296, device='cuda:0')</td>\n",
              "    </tr>\n",
              "    <tr>\n",
              "      <th>196</th>\n",
              "      <td>當選用單機裝置容量最小(8MW)的風\\n機時，將設置 71 部風機；當選用單機裝置容量最大(...</td>\n",
              "      <td>6</td>\n",
              "      <td>tensor(-0.1403, device='cuda:0')</td>\n",
              "    </tr>\n",
              "  </tbody>\n",
              "</table>\n",
              "<p>197 rows × 3 columns</p>\n",
              "</div>\n",
              "      <button class=\"colab-df-convert\" onclick=\"convertToInteractive('df-009f5025-fc58-4708-82cd-8e3858b5c6c8')\"\n",
              "              title=\"Convert this dataframe to an interactive table.\"\n",
              "              style=\"display:none;\">\n",
              "        \n",
              "  <svg xmlns=\"http://www.w3.org/2000/svg\" height=\"24px\"viewBox=\"0 0 24 24\"\n",
              "       width=\"24px\">\n",
              "    <path d=\"M0 0h24v24H0V0z\" fill=\"none\"/>\n",
              "    <path d=\"M18.56 5.44l.94 2.06.94-2.06 2.06-.94-2.06-.94-.94-2.06-.94 2.06-2.06.94zm-11 1L8.5 8.5l.94-2.06 2.06-.94-2.06-.94L8.5 2.5l-.94 2.06-2.06.94zm10 10l.94 2.06.94-2.06 2.06-.94-2.06-.94-.94-2.06-.94 2.06-2.06.94z\"/><path d=\"M17.41 7.96l-1.37-1.37c-.4-.4-.92-.59-1.43-.59-.52 0-1.04.2-1.43.59L10.3 9.45l-7.72 7.72c-.78.78-.78 2.05 0 2.83L4 21.41c.39.39.9.59 1.41.59.51 0 1.02-.2 1.41-.59l7.78-7.78 2.81-2.81c.8-.78.8-2.07 0-2.86zM5.41 20L4 18.59l7.72-7.72 1.47 1.35L5.41 20z\"/>\n",
              "  </svg>\n",
              "      </button>\n",
              "      \n",
              "  <style>\n",
              "    .colab-df-container {\n",
              "      display:flex;\n",
              "      flex-wrap:wrap;\n",
              "      gap: 12px;\n",
              "    }\n",
              "\n",
              "    .colab-df-convert {\n",
              "      background-color: #E8F0FE;\n",
              "      border: none;\n",
              "      border-radius: 50%;\n",
              "      cursor: pointer;\n",
              "      display: none;\n",
              "      fill: #1967D2;\n",
              "      height: 32px;\n",
              "      padding: 0 0 0 0;\n",
              "      width: 32px;\n",
              "    }\n",
              "\n",
              "    .colab-df-convert:hover {\n",
              "      background-color: #E2EBFA;\n",
              "      box-shadow: 0px 1px 2px rgba(60, 64, 67, 0.3), 0px 1px 3px 1px rgba(60, 64, 67, 0.15);\n",
              "      fill: #174EA6;\n",
              "    }\n",
              "\n",
              "    [theme=dark] .colab-df-convert {\n",
              "      background-color: #3B4455;\n",
              "      fill: #D2E3FC;\n",
              "    }\n",
              "\n",
              "    [theme=dark] .colab-df-convert:hover {\n",
              "      background-color: #434B5C;\n",
              "      box-shadow: 0px 1px 3px 1px rgba(0, 0, 0, 0.15);\n",
              "      filter: drop-shadow(0px 1px 2px rgba(0, 0, 0, 0.3));\n",
              "      fill: #FFFFFF;\n",
              "    }\n",
              "  </style>\n",
              "\n",
              "      <script>\n",
              "        const buttonEl =\n",
              "          document.querySelector('#df-009f5025-fc58-4708-82cd-8e3858b5c6c8 button.colab-df-convert');\n",
              "        buttonEl.style.display =\n",
              "          google.colab.kernel.accessAllowed ? 'block' : 'none';\n",
              "\n",
              "        async function convertToInteractive(key) {\n",
              "          const element = document.querySelector('#df-009f5025-fc58-4708-82cd-8e3858b5c6c8');\n",
              "          const dataTable =\n",
              "            await google.colab.kernel.invokeFunction('convertToInteractive',\n",
              "                                                     [key], {});\n",
              "          if (!dataTable) return;\n",
              "\n",
              "          const docLinkHtml = 'Like what you see? Visit the ' +\n",
              "            '<a target=\"_blank\" href=https://colab.research.google.com/notebooks/data_table.ipynb>data table notebook</a>'\n",
              "            + ' to learn more about interactive tables.';\n",
              "          element.innerHTML = '';\n",
              "          dataTable['output_type'] = 'display_data';\n",
              "          await google.colab.output.renderOutput(dataTable, element);\n",
              "          const docLink = document.createElement('div');\n",
              "          docLink.innerHTML = docLinkHtml;\n",
              "          element.appendChild(docLink);\n",
              "        }\n",
              "      </script>\n",
              "    </div>\n",
              "  </div>\n",
              "  "
            ]
          },
          "metadata": {},
          "execution_count": 79
        }
      ]
    },
    {
      "cell_type": "code",
      "source": [
        "#I used sentiment search to judge whether GPTs output is related to our keywords but I ran into a problem: there is no way to check whether the information is complete. For example, if we set the default threshold\n",
        "#to 0.7000, and then ask chatGPT to make a summary about certain topics within that text, it will only make a summary about those topics and leave the rest#####\n",
        "#also, if start with a really high threshold (which may only lead to 2 or 3 sentences) chat gpt will write a perfect summary that SBERT will judge with a high tensor score. This means that the threshold will not go down\n",
        "#and much information that may also be related to the subject is being left out.\n",
        "\n",
        "#I therefore thought of an alternative way to create a dynamic threshold. In the code below we find the last row, so the lowest possible tensor score, that contains our 關鍵詞 and delete all the rows after that.\n",
        "#this way we can be sure that all the important sentences related to our topic will be taken into consideration by GPT for writing its summary or answering our questions. \n",
        "\n",
        "# Find the index of the last row containing the word \"鯨豚\"\n",
        "index = df[df['text'].str.contains('豚'or'噪音')][::-1].index[0]\n",
        "\n",
        "# Drop all of the rows after the last row containing the word \"鯨豚\"\n",
        "new_df = df.loc[:index]"
      ],
      "metadata": {
        "id": "2qb8-anbMhUu"
      },
      "execution_count": 80,
      "outputs": []
    },
    {
      "cell_type": "code",
      "source": [
        "new_df"
      ],
      "metadata": {
        "colab": {
          "base_uri": "https://localhost:8080/",
          "height": 337
        },
        "id": "FY7HMlw8Mqpk",
        "outputId": "eb58f2fa-2d7f-47bd-925e-6017fd0b8233"
      },
      "execution_count": 81,
      "outputs": [
        {
          "output_type": "execute_result",
          "data": {
            "text/plain": [
              "                                                text  original_sequence  \\\n",
              "0  本潛力場址區域不包含漁港、濕地、保護礁區、漁\\n業資源保育區、重要野鳥棲地、中華白海豚野生動...                 18   \n",
              "1  然開發同時為兼顧再生能源發展及整體海岸管\\n理，已考量整體生態保育、景觀、環境等因素，使海\\...                181   \n",
              "2                                」因此本計畫位於彰化縣\\n海域管轄範圍                157   \n",
              "3   \\np.6-9 \\n十、全國區域計畫 \\n… \\n(四)與開發行為之關聯性 \\n本計畫風機...                133   \n",
              "4   \\n \\n \\n17 \\n第二期計畫」「中能離岸風力發電開發計畫」「王功與永興風\\n力發電...                124   \n",
              "\n",
              "                 accumulated_score  \n",
              "0  tensor(0.5316, device='cuda:0')  \n",
              "1  tensor(0.4650, device='cuda:0')  \n",
              "2  tensor(0.3782, device='cuda:0')  \n",
              "3  tensor(0.3517, device='cuda:0')  \n",
              "4  tensor(0.3516, device='cuda:0')  "
            ],
            "text/html": [
              "\n",
              "  <div id=\"df-9d08674f-d916-4368-8bbd-6f7ebe909ae8\">\n",
              "    <div class=\"colab-df-container\">\n",
              "      <div>\n",
              "<style scoped>\n",
              "    .dataframe tbody tr th:only-of-type {\n",
              "        vertical-align: middle;\n",
              "    }\n",
              "\n",
              "    .dataframe tbody tr th {\n",
              "        vertical-align: top;\n",
              "    }\n",
              "\n",
              "    .dataframe thead th {\n",
              "        text-align: right;\n",
              "    }\n",
              "</style>\n",
              "<table border=\"1\" class=\"dataframe\">\n",
              "  <thead>\n",
              "    <tr style=\"text-align: right;\">\n",
              "      <th></th>\n",
              "      <th>text</th>\n",
              "      <th>original_sequence</th>\n",
              "      <th>accumulated_score</th>\n",
              "    </tr>\n",
              "  </thead>\n",
              "  <tbody>\n",
              "    <tr>\n",
              "      <th>0</th>\n",
              "      <td>本潛力場址區域不包含漁港、濕地、保護礁區、漁\\n業資源保育區、重要野鳥棲地、中華白海豚野生動...</td>\n",
              "      <td>18</td>\n",
              "      <td>tensor(0.5316, device='cuda:0')</td>\n",
              "    </tr>\n",
              "    <tr>\n",
              "      <th>1</th>\n",
              "      <td>然開發同時為兼顧再生能源發展及整體海岸管\\n理，已考量整體生態保育、景觀、環境等因素，使海\\...</td>\n",
              "      <td>181</td>\n",
              "      <td>tensor(0.4650, device='cuda:0')</td>\n",
              "    </tr>\n",
              "    <tr>\n",
              "      <th>2</th>\n",
              "      <td>」因此本計畫位於彰化縣\\n海域管轄範圍</td>\n",
              "      <td>157</td>\n",
              "      <td>tensor(0.3782, device='cuda:0')</td>\n",
              "    </tr>\n",
              "    <tr>\n",
              "      <th>3</th>\n",
              "      <td>\\np.6-9 \\n十、全國區域計畫 \\n… \\n(四)與開發行為之關聯性 \\n本計畫風機...</td>\n",
              "      <td>133</td>\n",
              "      <td>tensor(0.3517, device='cuda:0')</td>\n",
              "    </tr>\n",
              "    <tr>\n",
              "      <th>4</th>\n",
              "      <td>\\n \\n \\n17 \\n第二期計畫」「中能離岸風力發電開發計畫」「王功與永興風\\n力發電...</td>\n",
              "      <td>124</td>\n",
              "      <td>tensor(0.3516, device='cuda:0')</td>\n",
              "    </tr>\n",
              "  </tbody>\n",
              "</table>\n",
              "</div>\n",
              "      <button class=\"colab-df-convert\" onclick=\"convertToInteractive('df-9d08674f-d916-4368-8bbd-6f7ebe909ae8')\"\n",
              "              title=\"Convert this dataframe to an interactive table.\"\n",
              "              style=\"display:none;\">\n",
              "        \n",
              "  <svg xmlns=\"http://www.w3.org/2000/svg\" height=\"24px\"viewBox=\"0 0 24 24\"\n",
              "       width=\"24px\">\n",
              "    <path d=\"M0 0h24v24H0V0z\" fill=\"none\"/>\n",
              "    <path d=\"M18.56 5.44l.94 2.06.94-2.06 2.06-.94-2.06-.94-.94-2.06-.94 2.06-2.06.94zm-11 1L8.5 8.5l.94-2.06 2.06-.94-2.06-.94L8.5 2.5l-.94 2.06-2.06.94zm10 10l.94 2.06.94-2.06 2.06-.94-2.06-.94-.94-2.06-.94 2.06-2.06.94z\"/><path d=\"M17.41 7.96l-1.37-1.37c-.4-.4-.92-.59-1.43-.59-.52 0-1.04.2-1.43.59L10.3 9.45l-7.72 7.72c-.78.78-.78 2.05 0 2.83L4 21.41c.39.39.9.59 1.41.59.51 0 1.02-.2 1.41-.59l7.78-7.78 2.81-2.81c.8-.78.8-2.07 0-2.86zM5.41 20L4 18.59l7.72-7.72 1.47 1.35L5.41 20z\"/>\n",
              "  </svg>\n",
              "      </button>\n",
              "      \n",
              "  <style>\n",
              "    .colab-df-container {\n",
              "      display:flex;\n",
              "      flex-wrap:wrap;\n",
              "      gap: 12px;\n",
              "    }\n",
              "\n",
              "    .colab-df-convert {\n",
              "      background-color: #E8F0FE;\n",
              "      border: none;\n",
              "      border-radius: 50%;\n",
              "      cursor: pointer;\n",
              "      display: none;\n",
              "      fill: #1967D2;\n",
              "      height: 32px;\n",
              "      padding: 0 0 0 0;\n",
              "      width: 32px;\n",
              "    }\n",
              "\n",
              "    .colab-df-convert:hover {\n",
              "      background-color: #E2EBFA;\n",
              "      box-shadow: 0px 1px 2px rgba(60, 64, 67, 0.3), 0px 1px 3px 1px rgba(60, 64, 67, 0.15);\n",
              "      fill: #174EA6;\n",
              "    }\n",
              "\n",
              "    [theme=dark] .colab-df-convert {\n",
              "      background-color: #3B4455;\n",
              "      fill: #D2E3FC;\n",
              "    }\n",
              "\n",
              "    [theme=dark] .colab-df-convert:hover {\n",
              "      background-color: #434B5C;\n",
              "      box-shadow: 0px 1px 3px 1px rgba(0, 0, 0, 0.15);\n",
              "      filter: drop-shadow(0px 1px 2px rgba(0, 0, 0, 0.3));\n",
              "      fill: #FFFFFF;\n",
              "    }\n",
              "  </style>\n",
              "\n",
              "      <script>\n",
              "        const buttonEl =\n",
              "          document.querySelector('#df-9d08674f-d916-4368-8bbd-6f7ebe909ae8 button.colab-df-convert');\n",
              "        buttonEl.style.display =\n",
              "          google.colab.kernel.accessAllowed ? 'block' : 'none';\n",
              "\n",
              "        async function convertToInteractive(key) {\n",
              "          const element = document.querySelector('#df-9d08674f-d916-4368-8bbd-6f7ebe909ae8');\n",
              "          const dataTable =\n",
              "            await google.colab.kernel.invokeFunction('convertToInteractive',\n",
              "                                                     [key], {});\n",
              "          if (!dataTable) return;\n",
              "\n",
              "          const docLinkHtml = 'Like what you see? Visit the ' +\n",
              "            '<a target=\"_blank\" href=https://colab.research.google.com/notebooks/data_table.ipynb>data table notebook</a>'\n",
              "            + ' to learn more about interactive tables.';\n",
              "          element.innerHTML = '';\n",
              "          dataTable['output_type'] = 'display_data';\n",
              "          await google.colab.output.renderOutput(dataTable, element);\n",
              "          const docLink = document.createElement('div');\n",
              "          docLink.innerHTML = docLinkHtml;\n",
              "          element.appendChild(docLink);\n",
              "        }\n",
              "      </script>\n",
              "    </div>\n",
              "  </div>\n",
              "  "
            ]
          },
          "metadata": {},
          "execution_count": 81
        }
      ]
    },
    {
      "cell_type": "markdown",
      "source": [
        "## determine threshold"
      ],
      "metadata": {
        "id": "Esr-E5_Yfhtc"
      }
    },
    {
      "cell_type": "code",
      "source": [
        "#we will have to consider how we want to determine the threshold, the simplest way would be to look at the dataframe and check from where it doesn't have anything to do \n",
        "#with 噪音 anymore. if there is a more mathematical way to solve this problem I am also open to that. \n",
        "\n",
        "# threshold = 0.7710\n",
        "# mask = df['accumulated_score'].apply(lambda x: x.item() > threshold)\n",
        "\n",
        "# sbert_out = df[mask]\n",
        "# sbert_out"
      ],
      "metadata": {
        "id": "eqq6twvkgLs8"
      },
      "execution_count": null,
      "outputs": []
    },
    {
      "cell_type": "markdown",
      "source": [
        "## sort by original sequence (optional)"
      ],
      "metadata": {
        "id": "ktxXQrB8l5ai"
      }
    },
    {
      "cell_type": "code",
      "source": [
        "# sbert_out = sbert_out.sort_values(by='original_sequence').reset_index(drop=True)\n",
        "# sbert_out=sbert_out['text']"
      ],
      "metadata": {
        "id": "f3ClnGqUaGcg"
      },
      "execution_count": null,
      "outputs": []
    },
    {
      "cell_type": "code",
      "source": [
        "# sbert_out=sbert_out.to_frame()\n",
        "# sbert_out"
      ],
      "metadata": {
        "id": "mPeSsE2damev"
      },
      "execution_count": null,
      "outputs": []
    },
    {
      "cell_type": "markdown",
      "source": [
        "## Summary with GPT "
      ],
      "metadata": {
        "id": "vN5ndThogMK7"
      }
    },
    {
      "cell_type": "markdown",
      "source": [
        "### prepare data"
      ],
      "metadata": {
        "id": "F0O4q1uVZYeu"
      }
    },
    {
      "cell_type": "code",
      "source": [
        "#disable this cell for sort by orginal sequence \n",
        "#fix this this is super confusing lol!!!!\n",
        "sbert_out=new_df\n",
        "sbert_out=sbert_out['text']  \n",
        "sbert_out=sbert_out.to_frame() \n",
        "df=sbert_out"
      ],
      "metadata": {
        "id": "FLm4bSrejPSs"
      },
      "execution_count": 82,
      "outputs": []
    },
    {
      "cell_type": "code",
      "source": [
        "df"
      ],
      "metadata": {
        "colab": {
          "base_uri": "https://localhost:8080/",
          "height": 206
        },
        "id": "j1dFAzcSR1ua",
        "outputId": "f289130a-9d0f-47af-a55f-14846788fb21"
      },
      "execution_count": 83,
      "outputs": [
        {
          "output_type": "execute_result",
          "data": {
            "text/plain": [
              "                                                text\n",
              "0  本潛力場址區域不包含漁港、濕地、保護礁區、漁\\n業資源保育區、重要野鳥棲地、中華白海豚野生動...\n",
              "1  然開發同時為兼顧再生能源發展及整體海岸管\\n理，已考量整體生態保育、景觀、環境等因素，使海\\...\n",
              "2                                」因此本計畫位於彰化縣\\n海域管轄範圍\n",
              "3   \\np.6-9 \\n十、全國區域計畫 \\n… \\n(四)與開發行為之關聯性 \\n本計畫風機...\n",
              "4   \\n \\n \\n17 \\n第二期計畫」「中能離岸風力發電開發計畫」「王功與永興風\\n力發電..."
            ],
            "text/html": [
              "\n",
              "  <div id=\"df-acdc785c-da2c-45b2-a843-81af6da983d5\">\n",
              "    <div class=\"colab-df-container\">\n",
              "      <div>\n",
              "<style scoped>\n",
              "    .dataframe tbody tr th:only-of-type {\n",
              "        vertical-align: middle;\n",
              "    }\n",
              "\n",
              "    .dataframe tbody tr th {\n",
              "        vertical-align: top;\n",
              "    }\n",
              "\n",
              "    .dataframe thead th {\n",
              "        text-align: right;\n",
              "    }\n",
              "</style>\n",
              "<table border=\"1\" class=\"dataframe\">\n",
              "  <thead>\n",
              "    <tr style=\"text-align: right;\">\n",
              "      <th></th>\n",
              "      <th>text</th>\n",
              "    </tr>\n",
              "  </thead>\n",
              "  <tbody>\n",
              "    <tr>\n",
              "      <th>0</th>\n",
              "      <td>本潛力場址區域不包含漁港、濕地、保護礁區、漁\\n業資源保育區、重要野鳥棲地、中華白海豚野生動...</td>\n",
              "    </tr>\n",
              "    <tr>\n",
              "      <th>1</th>\n",
              "      <td>然開發同時為兼顧再生能源發展及整體海岸管\\n理，已考量整體生態保育、景觀、環境等因素，使海\\...</td>\n",
              "    </tr>\n",
              "    <tr>\n",
              "      <th>2</th>\n",
              "      <td>」因此本計畫位於彰化縣\\n海域管轄範圍</td>\n",
              "    </tr>\n",
              "    <tr>\n",
              "      <th>3</th>\n",
              "      <td>\\np.6-9 \\n十、全國區域計畫 \\n… \\n(四)與開發行為之關聯性 \\n本計畫風機...</td>\n",
              "    </tr>\n",
              "    <tr>\n",
              "      <th>4</th>\n",
              "      <td>\\n \\n \\n17 \\n第二期計畫」「中能離岸風力發電開發計畫」「王功與永興風\\n力發電...</td>\n",
              "    </tr>\n",
              "  </tbody>\n",
              "</table>\n",
              "</div>\n",
              "      <button class=\"colab-df-convert\" onclick=\"convertToInteractive('df-acdc785c-da2c-45b2-a843-81af6da983d5')\"\n",
              "              title=\"Convert this dataframe to an interactive table.\"\n",
              "              style=\"display:none;\">\n",
              "        \n",
              "  <svg xmlns=\"http://www.w3.org/2000/svg\" height=\"24px\"viewBox=\"0 0 24 24\"\n",
              "       width=\"24px\">\n",
              "    <path d=\"M0 0h24v24H0V0z\" fill=\"none\"/>\n",
              "    <path d=\"M18.56 5.44l.94 2.06.94-2.06 2.06-.94-2.06-.94-.94-2.06-.94 2.06-2.06.94zm-11 1L8.5 8.5l.94-2.06 2.06-.94-2.06-.94L8.5 2.5l-.94 2.06-2.06.94zm10 10l.94 2.06.94-2.06 2.06-.94-2.06-.94-.94-2.06-.94 2.06-2.06.94z\"/><path d=\"M17.41 7.96l-1.37-1.37c-.4-.4-.92-.59-1.43-.59-.52 0-1.04.2-1.43.59L10.3 9.45l-7.72 7.72c-.78.78-.78 2.05 0 2.83L4 21.41c.39.39.9.59 1.41.59.51 0 1.02-.2 1.41-.59l7.78-7.78 2.81-2.81c.8-.78.8-2.07 0-2.86zM5.41 20L4 18.59l7.72-7.72 1.47 1.35L5.41 20z\"/>\n",
              "  </svg>\n",
              "      </button>\n",
              "      \n",
              "  <style>\n",
              "    .colab-df-container {\n",
              "      display:flex;\n",
              "      flex-wrap:wrap;\n",
              "      gap: 12px;\n",
              "    }\n",
              "\n",
              "    .colab-df-convert {\n",
              "      background-color: #E8F0FE;\n",
              "      border: none;\n",
              "      border-radius: 50%;\n",
              "      cursor: pointer;\n",
              "      display: none;\n",
              "      fill: #1967D2;\n",
              "      height: 32px;\n",
              "      padding: 0 0 0 0;\n",
              "      width: 32px;\n",
              "    }\n",
              "\n",
              "    .colab-df-convert:hover {\n",
              "      background-color: #E2EBFA;\n",
              "      box-shadow: 0px 1px 2px rgba(60, 64, 67, 0.3), 0px 1px 3px 1px rgba(60, 64, 67, 0.15);\n",
              "      fill: #174EA6;\n",
              "    }\n",
              "\n",
              "    [theme=dark] .colab-df-convert {\n",
              "      background-color: #3B4455;\n",
              "      fill: #D2E3FC;\n",
              "    }\n",
              "\n",
              "    [theme=dark] .colab-df-convert:hover {\n",
              "      background-color: #434B5C;\n",
              "      box-shadow: 0px 1px 3px 1px rgba(0, 0, 0, 0.15);\n",
              "      filter: drop-shadow(0px 1px 2px rgba(0, 0, 0, 0.3));\n",
              "      fill: #FFFFFF;\n",
              "    }\n",
              "  </style>\n",
              "\n",
              "      <script>\n",
              "        const buttonEl =\n",
              "          document.querySelector('#df-acdc785c-da2c-45b2-a843-81af6da983d5 button.colab-df-convert');\n",
              "        buttonEl.style.display =\n",
              "          google.colab.kernel.accessAllowed ? 'block' : 'none';\n",
              "\n",
              "        async function convertToInteractive(key) {\n",
              "          const element = document.querySelector('#df-acdc785c-da2c-45b2-a843-81af6da983d5');\n",
              "          const dataTable =\n",
              "            await google.colab.kernel.invokeFunction('convertToInteractive',\n",
              "                                                     [key], {});\n",
              "          if (!dataTable) return;\n",
              "\n",
              "          const docLinkHtml = 'Like what you see? Visit the ' +\n",
              "            '<a target=\"_blank\" href=https://colab.research.google.com/notebooks/data_table.ipynb>data table notebook</a>'\n",
              "            + ' to learn more about interactive tables.';\n",
              "          element.innerHTML = '';\n",
              "          dataTable['output_type'] = 'display_data';\n",
              "          await google.colab.output.renderOutput(dataTable, element);\n",
              "          const docLink = document.createElement('div');\n",
              "          docLink.innerHTML = docLinkHtml;\n",
              "          element.appendChild(docLink);\n",
              "        }\n",
              "      </script>\n",
              "    </div>\n",
              "  </div>\n",
              "  "
            ]
          },
          "metadata": {},
          "execution_count": 83
        }
      ]
    },
    {
      "cell_type": "code",
      "source": [
        "# Find the number of characters in each row of the text column\n",
        "df['text_length'] = df['text'].str.len()\n",
        "\n",
        "# Get the cumulative sum of the text lengths\n",
        "df['cumulative_length'] = df['text_length'].cumsum()\n",
        "\n",
        "# Find the index of the first row in which the cumulative length is greater than 1500\n",
        "index = df.index[df['cumulative_length'] > 1500]\n",
        "\n",
        "if index.size > 0:\n",
        "    index = index[0] - 1\n",
        "else:\n",
        "    index = df.shape[0] - 1\n",
        "\n",
        "# Create a new dataframe with only the last few rows\n",
        "new_df = df.iloc[index+1:]\n",
        "\n",
        "# Drop the last few rows from the original dataframe\n",
        "df = df.iloc[:index+1]\n",
        "df"
      ],
      "metadata": {
        "colab": {
          "base_uri": "https://localhost:8080/",
          "height": 302
        },
        "id": "b2Wjv5fyn76-",
        "outputId": "282a61e2-4d24-4f6f-ed03-ec80c29876ba"
      },
      "execution_count": 84,
      "outputs": [
        {
          "output_type": "execute_result",
          "data": {
            "text/plain": [
              "                                                text  text_length  \\\n",
              "0  本潛力場址區域不包含漁港、濕地、保護礁區、漁\\n業資源保育區、重要野鳥棲地、中華白海豚野生動...           58   \n",
              "1  然開發同時為兼顧再生能源發展及整體海岸管\\n理，已考量整體生態保育、景觀、環境等因素，使海\\...           72   \n",
              "2                                」因此本計畫位於彰化縣\\n海域管轄範圍           18   \n",
              "3   \\np.6-9 \\n十、全國區域計畫 \\n… \\n(四)與開發行為之關聯性 \\n本計畫風機...           76   \n",
              "4   \\n \\n \\n17 \\n第二期計畫」「中能離岸風力發電開發計畫」「王功與永興風\\n力發電...          167   \n",
              "\n",
              "   cumulative_length  \n",
              "0                 58  \n",
              "1                130  \n",
              "2                148  \n",
              "3                224  \n",
              "4                391  "
            ],
            "text/html": [
              "\n",
              "  <div id=\"df-94ba38be-d725-45a0-82d0-5362e3db10e7\">\n",
              "    <div class=\"colab-df-container\">\n",
              "      <div>\n",
              "<style scoped>\n",
              "    .dataframe tbody tr th:only-of-type {\n",
              "        vertical-align: middle;\n",
              "    }\n",
              "\n",
              "    .dataframe tbody tr th {\n",
              "        vertical-align: top;\n",
              "    }\n",
              "\n",
              "    .dataframe thead th {\n",
              "        text-align: right;\n",
              "    }\n",
              "</style>\n",
              "<table border=\"1\" class=\"dataframe\">\n",
              "  <thead>\n",
              "    <tr style=\"text-align: right;\">\n",
              "      <th></th>\n",
              "      <th>text</th>\n",
              "      <th>text_length</th>\n",
              "      <th>cumulative_length</th>\n",
              "    </tr>\n",
              "  </thead>\n",
              "  <tbody>\n",
              "    <tr>\n",
              "      <th>0</th>\n",
              "      <td>本潛力場址區域不包含漁港、濕地、保護礁區、漁\\n業資源保育區、重要野鳥棲地、中華白海豚野生動...</td>\n",
              "      <td>58</td>\n",
              "      <td>58</td>\n",
              "    </tr>\n",
              "    <tr>\n",
              "      <th>1</th>\n",
              "      <td>然開發同時為兼顧再生能源發展及整體海岸管\\n理，已考量整體生態保育、景觀、環境等因素，使海\\...</td>\n",
              "      <td>72</td>\n",
              "      <td>130</td>\n",
              "    </tr>\n",
              "    <tr>\n",
              "      <th>2</th>\n",
              "      <td>」因此本計畫位於彰化縣\\n海域管轄範圍</td>\n",
              "      <td>18</td>\n",
              "      <td>148</td>\n",
              "    </tr>\n",
              "    <tr>\n",
              "      <th>3</th>\n",
              "      <td>\\np.6-9 \\n十、全國區域計畫 \\n… \\n(四)與開發行為之關聯性 \\n本計畫風機...</td>\n",
              "      <td>76</td>\n",
              "      <td>224</td>\n",
              "    </tr>\n",
              "    <tr>\n",
              "      <th>4</th>\n",
              "      <td>\\n \\n \\n17 \\n第二期計畫」「中能離岸風力發電開發計畫」「王功與永興風\\n力發電...</td>\n",
              "      <td>167</td>\n",
              "      <td>391</td>\n",
              "    </tr>\n",
              "  </tbody>\n",
              "</table>\n",
              "</div>\n",
              "      <button class=\"colab-df-convert\" onclick=\"convertToInteractive('df-94ba38be-d725-45a0-82d0-5362e3db10e7')\"\n",
              "              title=\"Convert this dataframe to an interactive table.\"\n",
              "              style=\"display:none;\">\n",
              "        \n",
              "  <svg xmlns=\"http://www.w3.org/2000/svg\" height=\"24px\"viewBox=\"0 0 24 24\"\n",
              "       width=\"24px\">\n",
              "    <path d=\"M0 0h24v24H0V0z\" fill=\"none\"/>\n",
              "    <path d=\"M18.56 5.44l.94 2.06.94-2.06 2.06-.94-2.06-.94-.94-2.06-.94 2.06-2.06.94zm-11 1L8.5 8.5l.94-2.06 2.06-.94-2.06-.94L8.5 2.5l-.94 2.06-2.06.94zm10 10l.94 2.06.94-2.06 2.06-.94-2.06-.94-.94-2.06-.94 2.06-2.06.94z\"/><path d=\"M17.41 7.96l-1.37-1.37c-.4-.4-.92-.59-1.43-.59-.52 0-1.04.2-1.43.59L10.3 9.45l-7.72 7.72c-.78.78-.78 2.05 0 2.83L4 21.41c.39.39.9.59 1.41.59.51 0 1.02-.2 1.41-.59l7.78-7.78 2.81-2.81c.8-.78.8-2.07 0-2.86zM5.41 20L4 18.59l7.72-7.72 1.47 1.35L5.41 20z\"/>\n",
              "  </svg>\n",
              "      </button>\n",
              "      \n",
              "  <style>\n",
              "    .colab-df-container {\n",
              "      display:flex;\n",
              "      flex-wrap:wrap;\n",
              "      gap: 12px;\n",
              "    }\n",
              "\n",
              "    .colab-df-convert {\n",
              "      background-color: #E8F0FE;\n",
              "      border: none;\n",
              "      border-radius: 50%;\n",
              "      cursor: pointer;\n",
              "      display: none;\n",
              "      fill: #1967D2;\n",
              "      height: 32px;\n",
              "      padding: 0 0 0 0;\n",
              "      width: 32px;\n",
              "    }\n",
              "\n",
              "    .colab-df-convert:hover {\n",
              "      background-color: #E2EBFA;\n",
              "      box-shadow: 0px 1px 2px rgba(60, 64, 67, 0.3), 0px 1px 3px 1px rgba(60, 64, 67, 0.15);\n",
              "      fill: #174EA6;\n",
              "    }\n",
              "\n",
              "    [theme=dark] .colab-df-convert {\n",
              "      background-color: #3B4455;\n",
              "      fill: #D2E3FC;\n",
              "    }\n",
              "\n",
              "    [theme=dark] .colab-df-convert:hover {\n",
              "      background-color: #434B5C;\n",
              "      box-shadow: 0px 1px 3px 1px rgba(0, 0, 0, 0.15);\n",
              "      filter: drop-shadow(0px 1px 2px rgba(0, 0, 0, 0.3));\n",
              "      fill: #FFFFFF;\n",
              "    }\n",
              "  </style>\n",
              "\n",
              "      <script>\n",
              "        const buttonEl =\n",
              "          document.querySelector('#df-94ba38be-d725-45a0-82d0-5362e3db10e7 button.colab-df-convert');\n",
              "        buttonEl.style.display =\n",
              "          google.colab.kernel.accessAllowed ? 'block' : 'none';\n",
              "\n",
              "        async function convertToInteractive(key) {\n",
              "          const element = document.querySelector('#df-94ba38be-d725-45a0-82d0-5362e3db10e7');\n",
              "          const dataTable =\n",
              "            await google.colab.kernel.invokeFunction('convertToInteractive',\n",
              "                                                     [key], {});\n",
              "          if (!dataTable) return;\n",
              "\n",
              "          const docLinkHtml = 'Like what you see? Visit the ' +\n",
              "            '<a target=\"_blank\" href=https://colab.research.google.com/notebooks/data_table.ipynb>data table notebook</a>'\n",
              "            + ' to learn more about interactive tables.';\n",
              "          element.innerHTML = '';\n",
              "          dataTable['output_type'] = 'display_data';\n",
              "          await google.colab.output.renderOutput(dataTable, element);\n",
              "          const docLink = document.createElement('div');\n",
              "          docLink.innerHTML = docLinkHtml;\n",
              "          element.appendChild(docLink);\n",
              "        }\n",
              "      </script>\n",
              "    </div>\n",
              "  </div>\n",
              "  "
            ]
          },
          "metadata": {},
          "execution_count": 84
        }
      ]
    },
    {
      "cell_type": "code",
      "source": [
        "sbert_out=df['text']\n",
        "# sbert_out_1=new_df['text']\n",
        "# sbert_out_1 = sbert_out_1.reset_index(drop=True)\n",
        "# sbert_out.loc[0] = ['第327次會議是什麼時候？ 第327次會議中，對於鯨豚保育的重點是什麼？ 第327次會議中，有哪些專家為鯨豚保育發言？']\n",
        "# sbert_out_1.loc[0] = ['第327次會議是什麼時候？ 第327次會議中，對於鯨豚保育的重點是什麼？ 第327次會議中，有哪些專家為鯨豚保育發言？']\n",
        "sbert_out=sbert_out.to_frame()\n"
      ],
      "metadata": {
        "id": "SBJ1onQYWZT_"
      },
      "execution_count": 85,
      "outputs": []
    },
    {
      "cell_type": "code",
      "source": [
        "sbert_out"
      ],
      "metadata": {
        "colab": {
          "base_uri": "https://localhost:8080/",
          "height": 326
        },
        "id": "98MFWfel2W3_",
        "outputId": "9b815b5d-a5f1-45bd-fb57-6e8e6e5ff23f"
      },
      "execution_count": 86,
      "outputs": [
        {
          "output_type": "execute_result",
          "data": {
            "text/plain": [
              "                                                text\n",
              "0  本潛力場址區域不包含漁港、濕地、保護礁區、漁\\n業資源保育區、重要野鳥棲地、中華白海豚野生動...\n",
              "1  然開發同時為兼顧再生能源發展及整體海岸管\\n理，已考量整體生態保育、景觀、環境等因素，使海\\...\n",
              "2                                」因此本計畫位於彰化縣\\n海域管轄範圍\n",
              "3   \\np.6-9 \\n十、全國區域計畫 \\n… \\n(四)與開發行為之關聯性 \\n本計畫風機...\n",
              "4   \\n \\n \\n17 \\n第二期計畫」「中能離岸風力發電開發計畫」「王功與永興風\\n力發電..."
            ],
            "text/html": [
              "\n",
              "  <div id=\"df-65fbc597-5237-478e-9061-40a3efe4f1d0\">\n",
              "    <div class=\"colab-df-container\">\n",
              "      <div>\n",
              "<style scoped>\n",
              "    .dataframe tbody tr th:only-of-type {\n",
              "        vertical-align: middle;\n",
              "    }\n",
              "\n",
              "    .dataframe tbody tr th {\n",
              "        vertical-align: top;\n",
              "    }\n",
              "\n",
              "    .dataframe thead th {\n",
              "        text-align: right;\n",
              "    }\n",
              "</style>\n",
              "<table border=\"1\" class=\"dataframe\">\n",
              "  <thead>\n",
              "    <tr style=\"text-align: right;\">\n",
              "      <th></th>\n",
              "      <th>text</th>\n",
              "    </tr>\n",
              "  </thead>\n",
              "  <tbody>\n",
              "    <tr>\n",
              "      <th>0</th>\n",
              "      <td>本潛力場址區域不包含漁港、濕地、保護礁區、漁\\n業資源保育區、重要野鳥棲地、中華白海豚野生動...</td>\n",
              "    </tr>\n",
              "    <tr>\n",
              "      <th>1</th>\n",
              "      <td>然開發同時為兼顧再生能源發展及整體海岸管\\n理，已考量整體生態保育、景觀、環境等因素，使海\\...</td>\n",
              "    </tr>\n",
              "    <tr>\n",
              "      <th>2</th>\n",
              "      <td>」因此本計畫位於彰化縣\\n海域管轄範圍</td>\n",
              "    </tr>\n",
              "    <tr>\n",
              "      <th>3</th>\n",
              "      <td>\\np.6-9 \\n十、全國區域計畫 \\n… \\n(四)與開發行為之關聯性 \\n本計畫風機...</td>\n",
              "    </tr>\n",
              "    <tr>\n",
              "      <th>4</th>\n",
              "      <td>\\n \\n \\n17 \\n第二期計畫」「中能離岸風力發電開發計畫」「王功與永興風\\n力發電...</td>\n",
              "    </tr>\n",
              "  </tbody>\n",
              "</table>\n",
              "</div>\n",
              "      <button class=\"colab-df-convert\" onclick=\"convertToInteractive('df-65fbc597-5237-478e-9061-40a3efe4f1d0')\"\n",
              "              title=\"Convert this dataframe to an interactive table.\"\n",
              "              style=\"display:none;\">\n",
              "        \n",
              "  <svg xmlns=\"http://www.w3.org/2000/svg\" height=\"24px\"viewBox=\"0 0 24 24\"\n",
              "       width=\"24px\">\n",
              "    <path d=\"M0 0h24v24H0V0z\" fill=\"none\"/>\n",
              "    <path d=\"M18.56 5.44l.94 2.06.94-2.06 2.06-.94-2.06-.94-.94-2.06-.94 2.06-2.06.94zm-11 1L8.5 8.5l.94-2.06 2.06-.94-2.06-.94L8.5 2.5l-.94 2.06-2.06.94zm10 10l.94 2.06.94-2.06 2.06-.94-2.06-.94-.94-2.06-.94 2.06-2.06.94z\"/><path d=\"M17.41 7.96l-1.37-1.37c-.4-.4-.92-.59-1.43-.59-.52 0-1.04.2-1.43.59L10.3 9.45l-7.72 7.72c-.78.78-.78 2.05 0 2.83L4 21.41c.39.39.9.59 1.41.59.51 0 1.02-.2 1.41-.59l7.78-7.78 2.81-2.81c.8-.78.8-2.07 0-2.86zM5.41 20L4 18.59l7.72-7.72 1.47 1.35L5.41 20z\"/>\n",
              "  </svg>\n",
              "      </button>\n",
              "      \n",
              "  <style>\n",
              "    .colab-df-container {\n",
              "      display:flex;\n",
              "      flex-wrap:wrap;\n",
              "      gap: 12px;\n",
              "    }\n",
              "\n",
              "    .colab-df-convert {\n",
              "      background-color: #E8F0FE;\n",
              "      border: none;\n",
              "      border-radius: 50%;\n",
              "      cursor: pointer;\n",
              "      display: none;\n",
              "      fill: #1967D2;\n",
              "      height: 32px;\n",
              "      padding: 0 0 0 0;\n",
              "      width: 32px;\n",
              "    }\n",
              "\n",
              "    .colab-df-convert:hover {\n",
              "      background-color: #E2EBFA;\n",
              "      box-shadow: 0px 1px 2px rgba(60, 64, 67, 0.3), 0px 1px 3px 1px rgba(60, 64, 67, 0.15);\n",
              "      fill: #174EA6;\n",
              "    }\n",
              "\n",
              "    [theme=dark] .colab-df-convert {\n",
              "      background-color: #3B4455;\n",
              "      fill: #D2E3FC;\n",
              "    }\n",
              "\n",
              "    [theme=dark] .colab-df-convert:hover {\n",
              "      background-color: #434B5C;\n",
              "      box-shadow: 0px 1px 3px 1px rgba(0, 0, 0, 0.15);\n",
              "      filter: drop-shadow(0px 1px 2px rgba(0, 0, 0, 0.3));\n",
              "      fill: #FFFFFF;\n",
              "    }\n",
              "  </style>\n",
              "\n",
              "      <script>\n",
              "        const buttonEl =\n",
              "          document.querySelector('#df-65fbc597-5237-478e-9061-40a3efe4f1d0 button.colab-df-convert');\n",
              "        buttonEl.style.display =\n",
              "          google.colab.kernel.accessAllowed ? 'block' : 'none';\n",
              "\n",
              "        async function convertToInteractive(key) {\n",
              "          const element = document.querySelector('#df-65fbc597-5237-478e-9061-40a3efe4f1d0');\n",
              "          const dataTable =\n",
              "            await google.colab.kernel.invokeFunction('convertToInteractive',\n",
              "                                                     [key], {});\n",
              "          if (!dataTable) return;\n",
              "\n",
              "          const docLinkHtml = 'Like what you see? Visit the ' +\n",
              "            '<a target=\"_blank\" href=https://colab.research.google.com/notebooks/data_table.ipynb>data table notebook</a>'\n",
              "            + ' to learn more about interactive tables.';\n",
              "          element.innerHTML = '';\n",
              "          dataTable['output_type'] = 'display_data';\n",
              "          await google.colab.output.renderOutput(dataTable, element);\n",
              "          const docLink = document.createElement('div');\n",
              "          docLink.innerHTML = docLinkHtml;\n",
              "          element.appendChild(docLink);\n",
              "        }\n",
              "      </script>\n",
              "    </div>\n",
              "  </div>\n",
              "  "
            ]
          },
          "metadata": {},
          "execution_count": 86
        }
      ]
    },
    {
      "cell_type": "code",
      "source": [
        "# sbert_text = sbert_out['text'].to_string(index=False) #this leads to incomplete text. use join\n",
        "sbert_text = \" \".join(sbert_out['text'].tolist())\n",
        "len(sbert_text)"
      ],
      "metadata": {
        "id": "bAKE5jVTUhd7",
        "colab": {
          "base_uri": "https://localhost:8080/"
        },
        "outputId": "0dabf525-20ee-47fa-9535-8b8d470a16dd"
      },
      "execution_count": 87,
      "outputs": [
        {
          "output_type": "execute_result",
          "data": {
            "text/plain": [
              "395"
            ]
          },
          "metadata": {},
          "execution_count": 87
        }
      ]
    },
    {
      "cell_type": "code",
      "source": [
        "sbert_text = re.sub(r'[\\n\\\\]+', '', sbert_text)\n",
        "sbert_text= re.sub(r'n|n－', '', sbert_text)\n",
        "sbert_text"
      ],
      "metadata": {
        "id": "j-gq06dFXL8C",
        "outputId": "122d41cf-581a-45d2-d0e2-41340492497e",
        "colab": {
          "base_uri": "https://localhost:8080/",
          "height": 140
        }
      },
      "execution_count": 88,
      "outputs": [
        {
          "output_type": "execute_result",
          "data": {
            "text/plain": [
              "'本潛力場址區域不包含漁港、濕地、保護礁區、漁業資源保育區、重要野鳥棲地、中華白海豚野生動物重要棲息環境…等限制區 然開發同時為兼顧再生能源發展及整體海岸管理，已考量整體生態保育、景觀、環境等因素，使海岸功能及國土保安皆能落實，創造海岸管理與能源轉型雙贏 」因此本計畫位於彰化縣海域管轄範圍  p.6-9 十、全國區域計畫 … (四)與開發行為之關聯性 本計畫風機設置區域並無位於全國區域計畫海域利用所述之彰雲嘉沿海保護區計畫範圍內    17 第二期計畫」「中能離岸風力發電開發計畫」「王功與永興風力發電計畫」「海峽離岸風力發電計畫(27 號風場)「海峽離岸風力發電計畫(28 號風場)」「彰化西島離岸風力發電計畫」「彰化彰芳離岸風力發電計畫」「彰化福芳離岸風力發電計畫」「中華白海豚野生動物重要棲息環境之類別及範圍(預告訂定)」等相關計畫'"
            ],
            "application/vnd.google.colaboratory.intrinsic+json": {
              "type": "string"
            }
          },
          "metadata": {},
          "execution_count": 88
        }
      ]
    },
    {
      "cell_type": "code",
      "source": [
        "len(sbert_text)"
      ],
      "metadata": {
        "colab": {
          "base_uri": "https://localhost:8080/"
        },
        "id": "cRLMoBLrQt5x",
        "outputId": "fb2eead2-7e8e-4351-9f20-fe707e2cf01a"
      },
      "execution_count": 89,
      "outputs": [
        {
          "output_type": "execute_result",
          "data": {
            "text/plain": [
              "370"
            ]
          },
          "metadata": {},
          "execution_count": 89
        }
      ]
    },
    {
      "cell_type": "markdown",
      "source": [
        "### prompt GPT"
      ],
      "metadata": {
        "id": "nhMfK4aMZSHJ"
      }
    },
    {
      "cell_type": "code",
      "source": [
        "summary = ''\n",
        "\n",
        "response = openai.Completion.create(\n",
        "  model=\"text-davinci-003\",\n",
        "  prompt= '對於鯨豚保育的重點是什麼？'+sbert_text,\n",
        "  temperature=0.9,\n",
        "  max_tokens=800,\n",
        "  top_p=1,\n",
        "  frequency_penalty=0.0,\n",
        "  presence_penalty=0.0,\n",
        "  stop=[\" Human:\", \" AI:\"]\n",
        "  )\n",
        "response\n",
        "json_object = json.loads(str(response))\n",
        "text = json_object['choices'][0]['text']\n",
        "summary = summary + text\n",
        "\n",
        "summary"
      ],
      "metadata": {
        "id": "IYIvOX60hbVm",
        "outputId": "8026a674-21e9-4619-8d21-41df8c0b476a",
        "colab": {
          "base_uri": "https://localhost:8080/",
          "height": 70
        }
      },
      "execution_count": 91,
      "outputs": [
        {
          "output_type": "execute_result",
          "data": {
            "text/plain": [
              "'。\\n\\n鯨豚保育的重點一般包括：1. 減少受環境污染的損害；2. 減少經濟活動對鯨豚的衝擊；3. 保護重要漁業資源和野鳥棲地；4. 保護和修復重要海洋生態系統；5. 加強鯨豚及海洋生物研究；6. 加強對鯨豚的監管；7. 建立保護性地區與措施；8. 發展鯨豚攝影和觀賞活動的指標和管理方案；9. 推動海洋生態教育和環境意識；10. 提高民眾對鯨豚保護的參與度等。'"
            ],
            "application/vnd.google.colaboratory.intrinsic+json": {
              "type": "string"
            }
          },
          "metadata": {},
          "execution_count": 91
        }
      ]
    },
    {
      "cell_type": "code",
      "source": [
        "# summary1 = ''\n",
        "\n",
        "# response = openai.Completion.create(\n",
        "#   model=\"text-davinci-003\",\n",
        "#   prompt= ' 第327次會議中，對於鯨豚保育的重點是什麼？'+sbert_text,\n",
        "#   temperature=0.9,\n",
        "#   max_tokens=500,\n",
        "#   top_p=1,\n",
        "#   frequency_penalty=0.0,\n",
        "#   presence_penalty=0.0,\n",
        "#   stop=[\" Human:\", \" AI:\"]\n",
        "#   )\n",
        "# response\n",
        "# json_object = json.loads(str(response))\n",
        "# text = json_object['choices'][0]['text']\n",
        "# summary1 = summary1 + text\n",
        "\n",
        "# summary1"
      ],
      "metadata": {
        "id": "CIqBP7n-ZQ_W"
      },
      "execution_count": null,
      "outputs": []
    },
    {
      "cell_type": "code",
      "source": [
        "#  #remove key when uploading to github\n",
        "# summary2 = ''\n",
        "\n",
        "# response = openai.Completion.create(\n",
        "#   model=\"text-davinci-003\",\n",
        "#   prompt= '第327次會議中，有哪些專家為鯨豚保育發言？'+sbert_text,\n",
        "#   temperature=0.9,\n",
        "#   max_tokens=500,\n",
        "#   top_p=1,\n",
        "#   frequency_penalty=0.0,\n",
        "#   presence_penalty=0.0,\n",
        "#   stop=[\" Human:\", \" AI:\"]\n",
        "#   )\n",
        "# response\n",
        "# json_object = json.loads(str(response))\n",
        "# text = json_object['choices'][0]['text']\n",
        "# summary2 = summary2 + text\n",
        "\n",
        "# summary2"
      ],
      "metadata": {
        "id": "SsWOqjd9ZmF3"
      },
      "execution_count": null,
      "outputs": []
    },
    {
      "cell_type": "code",
      "source": [
        "print('第327次會議是什麼時候？'+ summary)\n",
        "# print('第327次會議中，對於鯨豚保育的重點是什麼？'+ summary1)\n",
        "# print('第327次會議中，有哪些專家為鯨豚保育發言？'+ summary2)"
      ],
      "metadata": {
        "colab": {
          "base_uri": "https://localhost:8080/"
        },
        "id": "ioXxbjClbGrM",
        "outputId": "be34003b-0725-451f-dddd-e44dcb1ecee5"
      },
      "execution_count": 92,
      "outputs": [
        {
          "output_type": "stream",
          "name": "stdout",
          "text": [
            "第327次會議是什麼時候？。\n",
            "\n",
            "鯨豚保育的重點一般包括：1. 減少受環境污染的損害；2. 減少經濟活動對鯨豚的衝擊；3. 保護重要漁業資源和野鳥棲地；4. 保護和修復重要海洋生態系統；5. 加強鯨豚及海洋生物研究；6. 加強對鯨豚的監管；7. 建立保護性地區與措施；8. 發展鯨豚攝影和觀賞活動的指標和管理方案；9. 推動海洋生態教育和環境意識；10. 提高民眾對鯨豚保護的參與度等。\n"
          ]
        }
      ]
    },
    {
      "cell_type": "markdown",
      "source": [
        "## adjust answers based on more information "
      ],
      "metadata": {
        "id": "xiqYFa1ZB9Mc"
      }
    },
    {
      "cell_type": "markdown",
      "source": [
        "### prepare additional data"
      ],
      "metadata": {
        "id": "asNCm95EZf_L"
      }
    },
    {
      "cell_type": "code",
      "source": [
        "new_df"
      ],
      "metadata": {
        "id": "BMYKq8-YzMwX"
      },
      "execution_count": null,
      "outputs": []
    },
    {
      "cell_type": "code",
      "source": [
        "# 補充answer with other rows?\n",
        "# reset index\n",
        "new_df=new_df['text']\n",
        "new_df = new_df.reset_index(drop=True)"
      ],
      "metadata": {
        "id": "BZuCacU41TaQ"
      },
      "execution_count": null,
      "outputs": []
    },
    {
      "cell_type": "code",
      "source": [
        "new_df=new_df.to_frame()"
      ],
      "metadata": {
        "id": "MiFr_dqz38wo"
      },
      "execution_count": null,
      "outputs": []
    },
    {
      "cell_type": "code",
      "source": [
        "df=new_df"
      ],
      "metadata": {
        "id": "L6fW1bb64QVz"
      },
      "execution_count": null,
      "outputs": []
    },
    {
      "cell_type": "code",
      "source": [
        "# Find the number of characters in each row of the text column\n",
        "df['text_length'] = df['text'].str.len()\n",
        "\n",
        "# Get the cumulative sum of the text lengths\n",
        "df['cumulative_length'] = df['text_length'].cumsum()\n",
        "\n",
        "# Find the index of the first row in which the cumulative length is greater than 3600\n",
        "index = df.index[df['cumulative_length'] > 1700][0]\n",
        "\n",
        "# Create a new dataframe with only the last few rows\n",
        "new_df = df.iloc[index:]\n",
        "\n",
        "# Drop the last few rows from the original dataframe\n",
        "df = df.iloc[:index]"
      ],
      "metadata": {
        "id": "vPwE_j8J35RA"
      },
      "execution_count": null,
      "outputs": []
    },
    {
      "cell_type": "code",
      "source": [
        "df"
      ],
      "metadata": {
        "id": "85pcaagm4Twa"
      },
      "execution_count": null,
      "outputs": []
    },
    {
      "cell_type": "code",
      "source": [
        "sbert_out_1=df['text']\n",
        "sbert_out_1=sbert_out_1.to_frame()\n",
        "sbert_out_1"
      ],
      "metadata": {
        "id": "tIl0eQdZ4kDy"
      },
      "execution_count": null,
      "outputs": []
    },
    {
      "cell_type": "code",
      "source": [
        "# sbert_text_1 = sbert_out_1['text'].to_string(index=False)\n",
        "sbert_text_1 = \" \".join(sbert_out_1['text'].tolist())\n",
        "len(sbert_text_1)"
      ],
      "metadata": {
        "id": "beSFybqW4psw"
      },
      "execution_count": null,
      "outputs": []
    },
    {
      "cell_type": "code",
      "source": [
        "sbert_text_1 = re.sub(r'[\\n\\\\]+', '', sbert_text_1)\n",
        "sbert_text_1 = re.sub(r'n|n－', '', sbert_text_1)\n",
        "sbert_text_1"
      ],
      "metadata": {
        "id": "Kq-nm9Ox5IH_"
      },
      "execution_count": null,
      "outputs": []
    },
    {
      "cell_type": "markdown",
      "source": [
        "### prompt GPT (part 2)"
      ],
      "metadata": {
        "id": "u0wto6-cZkSu"
      }
    },
    {
      "cell_type": "code",
      "source": [
        "summary3 = ''\n",
        "\n",
        "response = openai.Completion.create(\n",
        "  model=\"text-davinci-003\",\n",
        "  prompt= '我剛剛問你：第327次會議中，對於鯨豚保育的重點是什麼？你的答案就是'+ summary1+ '請以之下的資料補充你之前的答案答案'+sbert_text_1,\n",
        "  temperature=0.9,\n",
        "  max_tokens=300,\n",
        "  top_p=1,\n",
        "  frequency_penalty=0.0,\n",
        "  presence_penalty=0.0,\n",
        "  stop=[\" Human:\", \" AI:\"]\n",
        "  )\n",
        "response\n",
        "json_object = json.loads(str(response))\n",
        "text = json_object['choices'][0]['text']\n",
        "summary3 = summary3 + text\n",
        "\n",
        "summary3"
      ],
      "metadata": {
        "id": "Y5ybgEbgWcTu"
      },
      "execution_count": null,
      "outputs": []
    }
  ]
}